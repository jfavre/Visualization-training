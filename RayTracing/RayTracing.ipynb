{
 "cells": [
  {
   "cell_type": "markdown",
   "metadata": {},
   "source": [
    "## tested Wed Mar 23 02:26:30 PM CET 2022 on Piz Daint"
   ]
  },
  {
   "cell_type": "code",
   "execution_count": null,
   "metadata": {},
   "outputs": [],
   "source": [
    "from paraview.simple import *\n",
    "print(\"Using \", GetParaViewSourceVersion())\n",
    "#### disable automatic camera reset on 'Show'\n",
    "paraview.simple._DisableFirstRenderCameraReset()\n",
    "\n",
    "mf1 = \"/users/jfavre/Projects/ParaView/ospray_mats.json\"\n",
    "materialLibrary1 = GetMaterialLibrary()\n",
    "print(\"using materials: {:}\".format(mf1))\n",
    "materialLibrary1.LoadMaterials = mf1\n",
    "\n",
    "# Tested Fri May 14 17:10:58 CEST 2021\n",
    "\n",
    "def SaveImage(filename):\n",
    "  from vtk import vtkPNGWriter\n",
    "  img_writer = vtkPNGWriter()\n",
    "  img_writer.SetInputConnection(pvdisp.w2i.GetOutputPort())\n",
    "  img_writer.SetFileName(filename)\n",
    "  img_writer.Write()"
   ]
  },
  {
   "cell_type": "code",
   "execution_count": null,
   "metadata": {},
   "outputs": [],
   "source": [
    "ProgressivePasses = 10000\n",
    "SamplesPerPixel = 1"
   ]
  },
  {
   "cell_type": "code",
   "execution_count": null,
   "metadata": {},
   "outputs": [],
   "source": [
    "# Create a new 'Light'\n",
    "light1 = CreateLight()\n",
    "light1.Position = [50.0, 50.0, -150.0]\n",
    "\n",
    "light2 = CreateLight()\n",
    "light2.Position = [0.0, 0.0, 1.0]\n",
    "light2.Intensity = .3"
   ]
  },
  {
   "cell_type": "code",
   "execution_count": null,
   "metadata": {},
   "outputs": [],
   "source": [
    "# Create a new 'Render View'\n",
    "renderView1 = GetRenderView()\n",
    "renderView1.AxesGrid = 'GridAxes3DActor'\n",
    "renderView1.OrientationAxesVisibility = 0\n",
    "renderView1.CenterOfRotation = [0.0, 0.475, 0.0]\n",
    "renderView1.UseLight = 0\n",
    "renderView1.StereoType = 0\n",
    "renderView1.CameraPosition = [-2.0845170131514843, 1.251255184574042, 1.885297086960957]\n",
    "renderView1.CameraFocalPoint = [0, 0.475, 0.0]\n",
    "renderView1.CameraViewUp = [0.20406248231693128, 0.9682879470153982, -0.14414213462883688]\n",
    "renderView1.CenterOfRotation = [0., 0.25, 0.]\n",
    "renderView1.CameraParallelScale = 14.151484590759953\n",
    "renderView1.Background = [0.1803921568627451, 0.20392156862745098, 0.21176470588235294]\n",
    "renderView1.EnableRayTracing = 0 # Classic OpenGL\n",
    "renderView1.SamplesPerPixel = SamplesPerPixel\n",
    "renderView1.AdditionalLights = [light1, light2]\n",
    "# we add our own material library to the existing library of materials already\n",
    "# loaded by default.\n",
    "renderView1.OSPRayMaterialLibrary = materialLibrary1"
   ]
  },
  {
   "cell_type": "code",
   "execution_count": null,
   "metadata": {},
   "outputs": [],
   "source": [
    "renderView1.ViewSize = [400, 400]"
   ]
  },
  {
   "cell_type": "code",
   "execution_count": null,
   "metadata": {},
   "outputs": [],
   "source": [
    "Version = str(GetParaViewVersion())\n",
    "info = GetOpenGLInformation(location=servermanager.vtkSMSession.RENDER_SERVER)\n",
    "\n",
    "print(\"ParaView Version \", Version)\n",
    "print(\"Vendor:   %s\" % info.GetVendor())\n",
    "OptiXEnabled = False\n",
    "if info.GetVendor().split()[0] == 'NVIDIA':\n",
    "  OptiXEnabled = True\n",
    "print(\"Version:  %s\" % info.GetVersion())\n",
    "print(\"Renderer: %s\" % info.GetRenderer())"
   ]
  },
  {
   "cell_type": "code",
   "execution_count": null,
   "metadata": {},
   "outputs": [],
   "source": [
    "# create a new 'Programmable Source'\n",
    "Mirrors = ProgrammableSource(guiName=\"Mirrors\")\n",
    "Mirrors.OutputDataSetType = 'vtkUnstructuredGrid'\n",
    "Mirrors.Script = \"\"\"\n",
    "import vtk\n",
    "from vtk import VTK_WEDGE\n",
    "import numpy as np\n",
    "from vtk.numpy_interface import dataset_adapter as dsa\n",
    "executive = self.GetExecutive()\n",
    "outInfo = executive.GetOutputInformation(0)\n",
    "XYZ = np.array([ 1.0, 0.0, -1.0,\n",
    "               3.0, 0.0, -5.0,\n",
    "               2.0, 0.0,  5.0,\n",
    "               1.0,  1.0, -1.0,\n",
    "               3.0,  1.0, -5.0,\n",
    "               2.0,  1.0,  5.0 ])\n",
    "nnodes = XYZ.shape[0]//3\n",
    "CONNECTIVITY = np.array([6, 0,1,2,3,4,5])\n",
    "nelts = 1\n",
    "CELL_TYPES = np.full((nelts), VTK_WEDGE, np.ubyte)\n",
    "CELL_OFFSETS = np.arange(nelts)\n",
    "CELL_OFFSETS = 0 * CELL_OFFSETS\n",
    "output.SetCells(CELL_TYPES, CELL_OFFSETS, CONNECTIVITY)\n",
    "output.Points = XYZ.reshape((nnodes,3))\n",
    "\"\"\"\n"
   ]
  },
  {
   "cell_type": "code",
   "execution_count": null,
   "metadata": {},
   "outputs": [],
   "source": [
    "# create a new 'Cylinder'\n",
    "cylinder2 = Cylinder(guiName=\"straw\")\n",
    "cylinder2.Resolution = 128\n",
    "cylinder2.Height = 0.75\n",
    "cylinder2.Radius = 0.015\n",
    "cylinder2.Center = [0.0, 0.35, 0.0]\n",
    "\n",
    "# show data from cylinder2\n",
    "cylinder2Display = Show(cylinder2, renderView1)\n",
    "cylinder2Display.Representation = 'Surface'\n",
    "cylinder2Display.ColorArrayName = [None, '']\n",
    "cylinder2Display.Orientation = [-20.0, 0.0, 0.0]\n",
    "\n",
    "# create a new 'Cylinder'\n",
    "cylinder1 = Cylinder(guiName=\"Water\")\n",
    "cylinder1.Resolution = 2000\n",
    "cylinder1.Height = 0.5\n",
    "cylinder1.Radius = 0.253 # small scale up suggested by Tim Biedert to \"fix\" refraction\n",
    "cylinder1.Center = [0.0, 0.2501, 0.0]\n",
    "\n",
    "# show data from cylinder1\n",
    "cylinder1Display = Show(cylinder1, renderView1)\n",
    "cylinder1Display.Representation = 'Surface'\n",
    "cylinder1Display.AmbientColor = [0.0, 0.0, 0.0]\n",
    "cylinder1Display.ColorArrayName = ['POINTS', '']\n",
    "cylinder1Display.Ambient = 1.0\n",
    "cylinder1Display.Diffuse = 0.8\n"
   ]
  },
  {
   "cell_type": "code",
   "execution_count": null,
   "metadata": {},
   "outputs": [],
   "source": [
    "# create a new 'Plane'\n",
    "plane1 = Plane()\n",
    "plane1.Origin = [-10.0, 0.0, -10.0]\n",
    "plane1.Point1 = [-10.0, 0.0, 10.0]\n",
    "plane1.Point2 = [10.0, 0.0, -10.0]\n",
    "plane1.XResolution = 200\n",
    "plane1.YResolution = 200\n",
    "\n",
    "# show data from plane1\n",
    "plane1Display = Show(plane1, renderView1)\n",
    "plane1Display.Representation = 'Surface With Edges'\n",
    "plane1Display.ColorArrayName = ['POINTS', '']\n",
    "plane1Display.LineWidth = 0.1\n",
    "plane1Display.Ambient = 0.2\n",
    "plane1Display.Diffuse = 0.8"
   ]
  },
  {
   "cell_type": "code",
   "execution_count": null,
   "metadata": {},
   "outputs": [],
   "source": [
    "########  added to replace the glass container with hexahedral grid\n",
    "\n",
    "Res = 2000\n",
    "outercylinder = Cylinder()\n",
    "outercylinder.Resolution = Res\n",
    "outercylinder.Height = 0.6\n",
    "outercylinder.Radius = 0.27\n",
    "outercylinder.Center = [0.0, 0.2501, 0.0]\n",
    "outercylinder.Capping = 0\n",
    "\n",
    "# create a new 'Cylinder'\n",
    "innercylinder = Cylinder()\n",
    "innercylinder.Resolution = Res\n",
    "innercylinder.Height = 0.6\n",
    "innercylinder.Radius = 0.25\n",
    "innercylinder.Center = [0.0, 0.2501, 0.0]\n",
    "innercylinder.Capping = 0\n",
    "\n",
    "# create a new 'Append Datasets'\n",
    "appendDatasets1 = AppendDatasets(Input=[innercylinder, outercylinder])"
   ]
  },
  {
   "cell_type": "code",
   "execution_count": null,
   "metadata": {},
   "outputs": [],
   "source": [
    "# create a new 'Programmable Filter'\n",
    "NewGlass = ProgrammableFilter(Input=appendDatasets1, guiName=\"NewGlass\")\n",
    "NewGlass.Script = \"\"\"import vtk\n",
    "from vtk import VTK_HEXAHEDRON\n",
    "import numpy as np\n",
    "executive = self.GetExecutive()\n",
    "outInfo = executive.GetOutputInformation(0)\n",
    "\n",
    "output.Points = inputs[0].Points\n",
    "nelts = output.Points.shape[0]//4\n",
    "CELL_OFFSETS = np.arange(nelts)\n",
    "CELL_OFFSETS = (8+1) * CELL_OFFSETS\n",
    "\n",
    "CELL_TYPES = np.full((nelts), VTK_HEXAHEDRON, np.ubyte)\n",
    "\n",
    "l0 = l0 = np.append(np.array([2*i for i in range(nelts)]), 0)\n",
    "l2 = 2*nelts + l0\n",
    "\n",
    "connectivity=8*np.ones((9*nelts), dtype='int')\n",
    "\n",
    "for i in range(nelts):\n",
    "  connectivity[1+9*i  ] = l2[i]\n",
    "  connectivity[1+9*i+1] = l2[i+1]\n",
    "  connectivity[1+9*i+2] = l2[i+1]+1\n",
    "  connectivity[1+9*i+3] = l2[i]+1\n",
    "  connectivity[1+9*i+4] = l0[i]\n",
    "  connectivity[1+9*i+5] = l0[i+1]\n",
    "  connectivity[1+9*i+6] = l0[i+1]+1\n",
    "  connectivity[1+9*i+7] = l0[i]+1\n",
    "\n",
    "output.SetCells(CELL_TYPES, CELL_OFFSETS, connectivity)\n",
    "\"\"\"\n",
    "\n",
    "NewGlassDisplay = Show(NewGlass, renderView1)\n",
    "NewGlassDisplay.Representation = 'Surface'\n",
    "NewGlassDisplay.OSPRayMaterial = 'glass'\n"
   ]
  },
  {
   "cell_type": "code",
   "execution_count": null,
   "metadata": {},
   "outputs": [],
   "source": [
    "# show data from Mirrors\n",
    "MirrorsDisplay = Show(Mirrors, renderView1)\n",
    "MirrorsDisplay.Representation = 'Surface With Edges'\n",
    "MirrorsDisplay.ColorArrayName = [None, '']\n",
    "\n",
    "# First do classic OpenGL rendering with Ambient Light only\n",
    "MirrorsDisplay.Ambient = 1.0\n",
    "MirrorsDisplay.Diffuse = 0.0"
   ]
  },
  {
   "cell_type": "code",
   "execution_count": null,
   "metadata": {},
   "outputs": [],
   "source": [
    "# import the PVDisplay widget, then instantiate one for renV\n",
    "\n",
    "from ipyparaview.widgets import PVDisplay\n",
    "pvdisp = PVDisplay(renderView1)\n",
    "\n",
    "# show the widget once\n",
    "display(pvdisp)"
   ]
  },
  {
   "cell_type": "code",
   "execution_count": null,
   "metadata": {},
   "outputs": [],
   "source": [
    "# Second do classic OpenGL rendering with Ambient and Diffuse light\n",
    "MirrorsDisplay.Ambient = 0.2\n",
    "MirrorsDisplay.Diffuse = 0.8"
   ]
  },
  {
   "cell_type": "code",
   "execution_count": null,
   "metadata": {},
   "outputs": [],
   "source": [
    "# Third do OSPRay rendering without shadows\n",
    "renderView1.EnableRayTracing = 1\n",
    "renderView1.BackEnd = 'OSPRay raycaster'\n",
    "renderView1.LightScale = 1\n",
    "renderView1.Shadows = 0\n",
    "renderView1.AmbientSamples = 1\n",
    "renderView1.Denoise = 1\n",
    "renderView1.ProgressivePasses = 0  # must launch with --enable-streaming"
   ]
  },
  {
   "cell_type": "code",
   "execution_count": null,
   "metadata": {},
   "outputs": [],
   "source": [
    "# Fourth do OSPRay rendering with shadows\n",
    "renderView1.Shadows = 1"
   ]
  },
  {
   "cell_type": "code",
   "execution_count": null,
   "metadata": {},
   "outputs": [],
   "source": [
    "# Fifth do OSPRay rendering with *soft* shadows\n",
    "renderView1.BackEnd = 'OSPRay pathtracer'\n",
    "light1.Radius = 5"
   ]
  },
  {
   "cell_type": "code",
   "execution_count": null,
   "metadata": {},
   "outputs": [],
   "source": [
    "# Sixth do OSPRay rendering with shadows and a reflective material\n",
    "#MirrorsDisplay.OSPRayMaterial = 'copper'\n",
    "MirrorsDisplay.OSPRayMaterial = 'Metal_Copper_brushed'"
   ]
  },
  {
   "cell_type": "code",
   "execution_count": null,
   "metadata": {},
   "outputs": [],
   "source": [
    "# Seventh do OSPRay rendering. A wood material\n",
    "cylinder1Display.OSPRayMaterial = 'wood'"
   ]
  },
  {
   "cell_type": "code",
   "execution_count": null,
   "metadata": {},
   "outputs": [],
   "source": [
    "# Eigth do OSPRay rendering. A refractive material\n",
    "cylinder1Display.OSPRayMaterial = 'water'"
   ]
  },
  {
   "cell_type": "code",
   "execution_count": null,
   "metadata": {},
   "outputs": [],
   "source": [
    "if OptiXEnabled:\n",
    "    renderView1.BackEnd = 'OptiX pathtracer'"
   ]
  },
  {
   "cell_type": "code",
   "execution_count": null,
   "metadata": {},
   "outputs": [],
   "source": [
    "light1.Position = [50,50,-150]"
   ]
  },
  {
   "cell_type": "code",
   "execution_count": null,
   "metadata": {},
   "outputs": [],
   "source": [
    "from ipywidgets import interact\n",
    "\n",
    "def MoveLight(Z):\n",
    "    light1.Position=[50,50,Z]\n",
    "    \n",
    "interact(MoveLight, Z=(-150,150))"
   ]
  },
  {
   "cell_type": "code",
   "execution_count": null,
   "metadata": {},
   "outputs": [],
   "source": []
  }
 ],
 "metadata": {
  "kernelspec": {
   "display_name": "Python 3 (ipykernel)",
   "language": "python",
   "name": "python3"
  },
  "language_info": {
   "codemirror_mode": {
    "name": "ipython",
    "version": 3
   },
   "file_extension": ".py",
   "mimetype": "text/x-python",
   "name": "python",
   "nbconvert_exporter": "python",
   "pygments_lexer": "ipython3",
   "version": "3.9.4"
  }
 },
 "nbformat": 4,
 "nbformat_minor": 4
}
