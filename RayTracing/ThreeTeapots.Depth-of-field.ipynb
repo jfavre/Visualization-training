{
 "cells": [
  {
   "cell_type": "markdown",
   "metadata": {},
   "source": [
    "# Depth-of-field with ParaView path-tracing\n",
    "\n",
    "A demonstration created by Jean M. Favre, Swiss National Supercomputing Center.\n",
    "\n",
    "Tested on Piz Daint, with ParaView 5.10.1\n",
    "Tue Mar 15 02:51:54 PM CET 2022"
   ]
  },
  {
   "cell_type": "code",
   "execution_count": null,
   "metadata": {},
   "outputs": [],
   "source": [
    "from paraview.simple import *\n",
    "print(\"Using \", GetParaViewSourceVersion())\n",
    "#### disable automatic camera reset on 'Show'\n",
    "paraview.simple._DisableFirstRenderCameraReset()\n",
    "\n",
    "mf1 = \"/users/jfavre/Projects/ParaView/ospray_mats.json\"\n",
    "materialLibrary1 = GetMaterialLibrary()\n",
    "print(\"using materials: {:}\".format(mf1))\n",
    "materialLibrary1.LoadMaterials = mf1"
   ]
  },
  {
   "cell_type": "code",
   "execution_count": null,
   "metadata": {},
   "outputs": [],
   "source": [
    "ProgressivePasses = 0\n",
    "SamplesPerPixel = 1"
   ]
  },
  {
   "cell_type": "code",
   "execution_count": null,
   "metadata": {},
   "outputs": [],
   "source": [
    "# Create a new 'Render View'\n",
    "renderView1 = GetRenderView()\n",
    "renderView1.AxesGrid = 'GridAxes3DActor'\n",
    "renderView1.OrientationAxesVisibility = 0\n",
    "renderView1.CenterOfRotation = [0.0, 3.0985385850071907, -0.1246500015258789]\n",
    "renderView1.StereoType = 0\n",
    "renderView1.CameraPosition = [-24.562376867580436, 17.193587915885082, 6.724729205257313]\n",
    "renderView1.CameraFocalPoint = [-8.328268490755832e-19, 3.0985385850071907, -0.12465000152587886]\n",
    "renderView1.CameraViewUp = [0.46664201880300193, 0.8751921424967176, -0.12760854203173097]\n",
    "renderView1.CameraParallelScale = 7.615965180894449\n",
    "renderView1.Background = [0.32, 0.34, 0.43]\n",
    "renderView1.EnableRayTracing = 0 # Classic OpenGL\n",
    "renderView1.SamplesPerPixel = SamplesPerPixel\n",
    "renderView1.OSPRayMaterialLibrary = materialLibrary1"
   ]
  },
  {
   "cell_type": "code",
   "execution_count": null,
   "metadata": {},
   "outputs": [],
   "source": [
    "renderView1.ViewSize = [600, 400]"
   ]
  },
  {
   "cell_type": "code",
   "execution_count": null,
   "metadata": {},
   "outputs": [],
   "source": [
    "from paraview.modules.vtkRemotingViews import vtkPVOpenGLInformation\n",
    "\n",
    "info = vtkPVOpenGLInformation()\n",
    "info.CopyFromObject(None)\n",
    "print(\"Vendor:   %s\" % info.GetVendor())\n",
    "print(\"Version:  %s\" % info.GetVersion())\n",
    "print(\"Renderer: %s\" % info.GetRenderer())"
   ]
  },
  {
   "cell_type": "code",
   "execution_count": null,
   "metadata": {},
   "outputs": [],
   "source": [
    "teapot_lid = PLYReader(FileNames=['../Data/teapot_lid.ply'])\n",
    "\n",
    "teapot_body = PLYReader(FileNames=['../Data/teapot_body.ply'])\n",
    "\n",
    "# make two more copies of the teapot+lid, which we will move in space in the X direction\n",
    "teapot1 = PassArrays(Input=teapot_body)\n",
    "teapot2 = PassArrays(Input=teapot_body)\n",
    "\n",
    "lid1 = PassArrays(Input=teapot_lid)\n",
    "lid2 = PassArrays(Input=teapot_lid)\n",
    "\n",
    "teapot0Display = Show(teapot_body)\n",
    "teapot0Display.Representation = 'Surface'\n",
    "teapot0Display.ColorArrayName = [None, '']\n",
    "teapot0Display.OSPRayMaterial = 'glass'\n",
    "\n",
    "teapot1Display = Show(teapot1)\n",
    "teapot1Display.Representation = 'Surface'\n",
    "teapot1Display.ColorArrayName = [None, '']\n",
    "teapot1Display.OSPRayMaterial = 'glass'\n",
    "teapot1Display.Position = [15, 0, 0]\n",
    "\n",
    "teapot2Display = Show(teapot2)\n",
    "teapot2Display.Representation = 'Surface'\n",
    "teapot2Display.ColorArrayName = [None, '']\n",
    "teapot2Display.OSPRayMaterial = 'glass'\n",
    "teapot2Display.Position = [-10, 0, 0]\n",
    "\n",
    "lid0Display = Show(teapot_lid)\n",
    "lid0Display.Representation = 'Surface'\n",
    "lid0Display.ColorArrayName = [None, '']\n",
    "lid0Display.OSPRayMaterial = 'greenish glass'\n",
    "\n",
    "lid1Display = Show(lid1)\n",
    "lid1Display.Representation = 'Surface'\n",
    "lid1Display.ColorArrayName = [None, '']\n",
    "lid1Display.OSPRayMaterial = 'greenish glass'\n",
    "lid1Display.Position = [15, 0, 0]\n",
    "\n",
    "lid2Display = Show(lid2)\n",
    "lid2Display.Representation = 'Surface'\n",
    "lid2Display.ColorArrayName = [None, '']\n",
    "lid2Display.OSPRayMaterial = 'greenish glass'\n",
    "lid2Display.Position = [-10, 0, 0]"
   ]
  },
  {
   "cell_type": "code",
   "execution_count": null,
   "metadata": {},
   "outputs": [],
   "source": [
    "plane1 = Plane()\n",
    "plane1.Origin = [-40.0, 0.0, -30.0]\n",
    "plane1.Point1 = [80.0, 0.0, -30.0]\n",
    "plane1.Point2 = [-40.0, 0.0, 30.0]\n",
    "plane1.XResolution = 20\n",
    "plane1.YResolution = 20"
   ]
  },
  {
   "cell_type": "code",
   "execution_count": null,
   "metadata": {},
   "outputs": [],
   "source": [
    "plane1Display = Show(plane1, renderView1)\n",
    "\n",
    "# trace defaults for the display properties.\n",
    "plane1Display.Representation = 'Surface'\n",
    "plane1Display.ColorArrayName = [None, '']\n",
    "plane1Display.OSPRayMaterial = 'checker alpha'"
   ]
  },
  {
   "cell_type": "code",
   "execution_count": null,
   "metadata": {},
   "outputs": [],
   "source": [
    "# import the PVDisplay widget, then instantiate one for renV\n",
    "\n",
    "from ipyparaview.widgets import PVDisplay\n",
    "pvdisp = PVDisplay(renderView1)\n",
    "\n",
    "# show the widget once\n",
    "display(pvdisp)"
   ]
  },
  {
   "cell_type": "code",
   "execution_count": null,
   "metadata": {},
   "outputs": [],
   "source": [
    "# Third do OSPRay rendering without shadows\n",
    "renderView1.EnableRayTracing = 1\n",
    "renderView1.BackEnd = 'OSPRay raycaster'\n",
    "renderView1.LightScale = 1\n",
    "renderView1.Shadows = 0\n",
    "renderView1.AmbientSamples = 1\n",
    "renderView1.Denoise = 1\n",
    "renderView1.ProgressivePasses = 0  # must launch with --enable-streaming"
   ]
  },
  {
   "cell_type": "code",
   "execution_count": null,
   "metadata": {},
   "outputs": [],
   "source": [
    "# Fourth do OSPRay rendering with shadows\n",
    "renderView1.Shadows = 1"
   ]
  },
  {
   "cell_type": "code",
   "execution_count": null,
   "metadata": {},
   "outputs": [],
   "source": [
    "# Fifth do OSPRay rendering with *soft* shadows\n",
    "renderView1.BackEnd = 'OSPRay pathtracer'"
   ]
  },
  {
   "cell_type": "markdown",
   "metadata": {},
   "source": [
    "## Make three different rendering with depth-of-field\n",
    "we will move the center of attention to each teapot, one at a time"
   ]
  },
  {
   "cell_type": "code",
   "execution_count": null,
   "metadata": {},
   "outputs": [],
   "source": [
    "camera=GetActiveCamera()\n",
    "print(\"camera.GetFocalDistance()=\", camera.GetFocalDistance())\n",
    "print(\"camera.GetFocalDisk()=\", camera.GetFocalDisk())\n",
    "SamplesPerPixel = 10\n",
    "renderView1.SamplesPerPixel = SamplesPerPixel"
   ]
  },
  {
   "cell_type": "code",
   "execution_count": null,
   "metadata": {},
   "outputs": [],
   "source": [
    "# focus on the far-away teapot\n",
    "camera.SetFocalDistance(39)\n",
    "camera.SetFocalDisk(2)"
   ]
  },
  {
   "cell_type": "code",
   "execution_count": null,
   "metadata": {},
   "outputs": [],
   "source": [
    "# focus on the teapot in the center\n",
    "camera.SetFocalDistance(29)\n",
    "camera.SetFocalDisk(2)"
   ]
  },
  {
   "cell_type": "code",
   "execution_count": null,
   "metadata": {},
   "outputs": [],
   "source": [
    "# focus on the closest teapot\n",
    "camera.SetFocalDistance(14)\n",
    "camera.SetFocalDisk(.2)"
   ]
  },
  {
   "cell_type": "code",
   "execution_count": null,
   "metadata": {},
   "outputs": [],
   "source": [
    "from ipywidgets import interact\n",
    "\n",
    "def DepthOfField(distance, focalDisk):\n",
    "    camera.SetFocalDistance(distance)\n",
    "    camera.SetFocalDisk(focalDisk)\n",
    "\n",
    "interact(DepthOfField, distance=(1,50), focalDisk=(0.,3.))"
   ]
  },
  {
   "cell_type": "code",
   "execution_count": null,
   "metadata": {},
   "outputs": [],
   "source": []
  }
 ],
 "metadata": {
  "kernelspec": {
   "display_name": "Python 3 (ipykernel)",
   "language": "python",
   "name": "python3"
  },
  "language_info": {
   "codemirror_mode": {
    "name": "ipython",
    "version": 3
   },
   "file_extension": ".py",
   "mimetype": "text/x-python",
   "name": "python",
   "nbconvert_exporter": "python",
   "pygments_lexer": "ipython3",
   "version": "3.9.4"
  }
 },
 "nbformat": 4,
 "nbformat_minor": 4
}
