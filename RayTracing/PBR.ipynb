{
 "cells": [
  {
   "cell_type": "code",
   "execution_count": null,
   "metadata": {},
   "outputs": [],
   "source": [
    "# tested for Paraview v5.10.1 Tue Mar 15 02:51:54 PM CET 2022\n",
    "from ipywidgets import interact\n",
    "from paraview.simple import *\n",
    "import matplotlib.pyplot as plt\n",
    "import matplotlib.image as mpimg\n",
    "print(\"Using \", GetParaViewSourceVersion())\n",
    "#### disable automatic camera reset on 'Show'\n",
    "paraview.simple._DisableFirstRenderCameraReset()\n",
    "\n",
    "def SaveImage(filename):\n",
    "  from vtk import vtkPNGWriter\n",
    "  img_writer = vtkPNGWriter()\n",
    "  img_writer.SetInputConnection(disp.w2i.GetOutputPort())\n",
    "  img_writer.SetFileName(filename)\n",
    "  img_writer.Write()"
   ]
  },
  {
   "cell_type": "code",
   "execution_count": null,
   "metadata": {},
   "outputs": [],
   "source": [
    "# create three orthogonal planes\n",
    "plane3 = Plane()\n",
    "plane3.Origin = [-1.0, -1.0, -1.0]\n",
    "plane3.Point1 = [1.0, -1.0, -1.0]\n",
    "plane3.Point2 = [-1.0, 1.0, -1.0]\n",
    "plane3.XResolution = 10\n",
    "plane3.YResolution = 10\n",
    "p3 = Show()\n",
    "\n",
    "plane1 = Plane()\n",
    "plane1.Origin = [-1.0, -1.0, -1.0]\n",
    "plane1.Point1 = [1.0, -1.0, -1.0]\n",
    "plane1.Point2 = [-1.0, -1.0, 1.0]\n",
    "plane1.XResolution = 10\n",
    "plane1.YResolution = 10\n",
    "p1 = Show()\n",
    "\n",
    "plane2 = Plane()\n",
    "plane2.Origin = [-1.0, -1.0, -1.0]\n",
    "plane2.Point1 = [-1.0, -1.0, 1.0]\n",
    "plane2.Point2 = [-1.0, 1.0, -1.0]\n",
    "plane2.XResolution = 10\n",
    "plane2.YResolution = 10\n",
    "p2=Show()\n",
    "\n",
    "# create a Torus\n",
    "superquadric1 = Superquadric()\n",
    "superquadric1.ThetaResolution = 64\n",
    "superquadric1.PhiResolution = 64\n",
    "\n",
    "torus=Show()"
   ]
  },
  {
   "cell_type": "code",
   "execution_count": null,
   "metadata": {},
   "outputs": [],
   "source": [
    "# Create a new 'Render View'\n",
    "renderView1 = GetRenderView()\n",
    "renderView1.OrientationAxesVisibility = 0\n",
    "\n",
    "renderView1.EnableRayTracing = 0 # Classic OpenGL"
   ]
  },
  {
   "cell_type": "code",
   "execution_count": null,
   "metadata": {},
   "outputs": [],
   "source": [
    "renderView1.ViewSize = [600, 400]"
   ]
  },
  {
   "cell_type": "code",
   "execution_count": null,
   "metadata": {},
   "outputs": [],
   "source": [
    "from paraview.modules.vtkRemotingViews import vtkPVOpenGLInformation\n",
    "\n",
    "info = vtkPVOpenGLInformation()\n",
    "info.CopyFromObject(None)\n",
    "print(\"Vendor:   %s\" % info.GetVendor())\n",
    "print(\"Version:  %s\" % info.GetVersion())\n",
    "print(\"Renderer: %s\" % info.GetRenderer())"
   ]
  },
  {
   "cell_type": "code",
   "execution_count": null,
   "metadata": {},
   "outputs": [],
   "source": [
    "# import the PVDisplay widget, then instantiate one for renV\n",
    "\n",
    "from ipyparaview.widgets import PVDisplay\n",
    "disp = PVDisplay(renderView1)\n",
    "\n",
    "# show the widget once\n",
    "display(disp)"
   ]
  },
  {
   "cell_type": "code",
   "execution_count": null,
   "metadata": {},
   "outputs": [],
   "source": [
    "# Switch to Flat Shading\n",
    "torus.Interpolation = 'Flat'\n",
    "torus.Specular = 0"
   ]
  },
  {
   "cell_type": "code",
   "execution_count": null,
   "metadata": {},
   "outputs": [],
   "source": [
    "# Switch to Gouraud Shading\n",
    "torus.Interpolation = 'Gouraud'\n",
    "torus.Specular = 0.5"
   ]
  },
  {
   "cell_type": "code",
   "execution_count": null,
   "metadata": {},
   "outputs": [],
   "source": [
    "# Switch to PBR Shading\n",
    "torus.Interpolation = 'PBR'\n",
    "torus.Metallic = .5\n",
    "# how glossy is the material? glossy materials have a low roughness value\n",
    "torus.Roughness = 0.9\n",
    "torus.AmbientColor = [1.0, 0.666, 0.5]\n",
    "torus.DiffuseColor = [1.0, 0.666, 0.5]\n",
    "\n",
    "def ChangeRoughnessMetallicity(Roughness, Metallicity):\n",
    "    torus.Roughness = Roughness\n",
    "    torus.Metallic = Metallicity\n",
    "    \n",
    "interact(ChangeRoughnessMetallicity, Roughness=(0.,1.), Metallicity=(0.,1.))"
   ]
  },
  {
   "cell_type": "markdown",
   "metadata": {},
   "source": [
    "# Image-Based Lighting"
   ]
  },
  {
   "cell_type": "markdown",
   "metadata": {},
   "source": [
    "Glossy materials (low roughness value) are reflecting the environment with a technique called Image-Based Lighting that is supported by the PBR shading model\n",
    "\n",
    "The environment is made of a cubemap texture which is a texture consisting of 6 seamless images for the 6 different directions of the 3D space"
   ]
  },
  {
   "cell_type": "code",
   "execution_count": null,
   "metadata": {},
   "outputs": [],
   "source": [
    "# Load a cubemap texture. https://hdrihaven.com/hdris/ has lots of examples\n",
    "imgFileName = \"../Data/palermo_sidewalk_2k.jpg\"\n",
    "img = mpimg.imread(imgFileName)\n",
    "fig, ax = plt.subplots(figsize=(8,4))\n",
    "imgplot = ax.imshow(img)"
   ]
  },
  {
   "cell_type": "code",
   "execution_count": null,
   "metadata": {},
   "outputs": [],
   "source": [
    "# make the material glossy and hide the three planes for a moment\n",
    "torus.Roughness = 0.\n",
    "Hide(plane1)\n",
    "Hide(plane2)\n",
    "Hide(plane3)\n",
    "\n",
    "cubemap = CreateTexture(imgFileName)\n",
    "renderView1.UseColorPaletteForBackground = 0\n",
    "renderView1.BackgroundColorMode = 'Skybox'\n",
    "renderView1.UseEnvironmentLighting = 1\n",
    "renderView1.BackgroundTexture = cubemap"
   ]
  },
  {
   "cell_type": "code",
   "execution_count": null,
   "metadata": {},
   "outputs": [],
   "source": []
  }
 ],
 "metadata": {
  "kernelspec": {
   "display_name": "Python 3 (ipykernel)",
   "language": "python",
   "name": "python3"
  },
  "language_info": {
   "codemirror_mode": {
    "name": "ipython",
    "version": 3
   },
   "file_extension": ".py",
   "mimetype": "text/x-python",
   "name": "python",
   "nbconvert_exporter": "python",
   "pygments_lexer": "ipython3",
   "version": "3.9.4"
  }
 },
 "nbformat": 4,
 "nbformat_minor": 4
}
