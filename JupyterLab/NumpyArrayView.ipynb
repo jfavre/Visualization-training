{
 "cells": [
  {
   "cell_type": "code",
   "execution_count": 7,
   "metadata": {},
   "outputs": [],
   "source": [
    "# We will use the itkwidgets from https://pypi.org/project/itkwidgets/\n",
    "from itkwidgets import view\n",
    "import numpy as np"
   ]
  },
  {
   "cell_type": "code",
   "execution_count": null,
   "metadata": {},
   "outputs": [],
   "source": [
    "dims = [64,64,64]\n",
    "bounds = (-10.0, 10.0, -10.0, 10.0,-10.0, 10.0)\n",
    "xaxis = np.linspace(bounds[0], bounds[1], dims[0])\n",
    "yaxis = np.linspace(bounds[2], bounds[3], dims[1])\n",
    "zaxis = np.linspace(bounds[4], bounds[5], dims[2])\n",
    "[xc,yc,zc] = np.meshgrid(zaxis,yaxis,xaxis, indexing=\"ij\")\n",
    "data = xc**2 + yc**2 + zc**2\n",
    "\n",
    "np.min(data),np.max(data)"
   ]
  },
  {
   "cell_type": "code",
   "execution_count": null,
   "metadata": {},
   "outputs": [],
   "source": [
    "view(data)"
   ]
  }
 ],
 "metadata": {
  "kernelspec": {
   "display_name": "Python 3",
   "language": "python",
   "name": "python3"
  },
  "language_info": {
   "codemirror_mode": {
    "name": "ipython",
    "version": 3
   },
   "file_extension": ".py",
   "mimetype": "text/x-python",
   "name": "python",
   "nbconvert_exporter": "python",
   "pygments_lexer": "ipython3",
   "version": "3.8.5"
  }
 },
 "nbformat": 4,
 "nbformat_minor": 4
}
