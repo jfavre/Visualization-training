{
 "cells": [
  {
   "cell_type": "markdown",
   "metadata": {},
   "source": [
    "# Visualize weather data from https://www.earthsystemgrid.org/dataset/isabeldata.html\n",
    "\n",
    "Written by Jean M Favre, Swiss National Supercomputing Center.\n",
    "Tested on Piz Daint Thu 01 Oct 2020 08:38:49 AM CEST"
   ]
  },
  {
   "cell_type": "code",
   "execution_count": null,
   "metadata": {},
   "outputs": [],
   "source": [
    "import gzip\n",
    "import numpy as np\n",
    "import matplotlib.pyplot as plt\n",
    "from ipywidgets import interact\n",
    "from matplotlib import animation, rc"
   ]
  },
  {
   "cell_type": "markdown",
   "metadata": {},
   "source": [
    "# Details about file format are here:\n",
    "\n",
    "https://www.earthsystemgrid.org/dataset/isabeldata/file/readme.html\n",
    "\n",
    "http://vis.computer.org/vis2004contest/data.html\n",
    "\n",
    "Data Format\n",
    "\n",
    "A summary of the data can be found below:\n",
    "\n",
    "    Dimensions: 500 x 500 x 100\n",
    "    Physical Scale: 2139km (east-west) x 2004km (north-south) x 19.8km (vertical) Note: The east-west distance of 2139km is measured at the southern latitude; the distance is only 1741km at the northern latitude due to the curvature of the earth.\n",
    "    Physical Location: Longitude (x): 83W to 62W; Latitude (y): 23.7N to 41.7N; Height (z): 0.035km to 19.835km\n",
    "    Format: Brick-of-Floats"
   ]
  },
  {
   "cell_type": "code",
   "execution_count": null,
   "metadata": {},
   "outputs": [],
   "source": [
    "dims = [500,500,100] # original dimensions of binary data in disk file\n",
    "\n",
    "def load_slice(frame_number=1, K=50):\n",
    "  assert frame_number >= 1 and frame_number <= 48\n",
    "  fname_gzipped = format('/scratch/snx3000/jfavre/Isabel/QVAPORf%02d.bin.gz' % frame_number)\n",
    "  #print(\"opening \", fname_gzipped)\n",
    "  with gzip.open(fname_gzipped,'rb') as f:\n",
    "    # read a single slice in the Z direction by slicing the volume\n",
    "    data = np.frombuffer(f.read(), dtype='>f4')[dims[0]*dims[1]*K:dims[0]*dims[1]*(K+1)]\n",
    "    # Land values, where there is no valid atmospheric data, are marked 1.0e35\n",
    "    data = np.where(data!=1e35, data, np.NaN)\n",
    "    data = data.reshape(dims[0:2])\n",
    "    data = np.fliplr(np.rot90(data,-1))\n",
    "  return data"
   ]
  },
  {
   "cell_type": "code",
   "execution_count": null,
   "metadata": {},
   "outputs": [],
   "source": [
    "def animate():\n",
    "    def display_slice_in_time(time=48):\n",
    "        plt.imshow(load_slice(time, 0), extent=[83, 62, 23.7, 41.7], cmap=plt.get_cmap(\"PuBuGn\"))\n",
    "        plt.title('Timestep: %d' % time)\n",
    "        plt.show()\n",
    "    interact(display_slice_in_time, time=(1,48))\n",
    "    \n",
    "animate()"
   ]
  },
  {
   "cell_type": "code",
   "execution_count": null,
   "metadata": {},
   "outputs": [],
   "source": [
    "fig = plt.figure()\n",
    "# framenumber = 1 and K=0 would be the default values\n",
    "image = plt.imshow(load_slice(1,0), extent=[83, 62,23.7, 41.7], cmap=plt.get_cmap(\"PuBuGn\"))\n",
    "\n",
    "def display_slice_in_time(time=48):\n",
    "    image.set_data(load_slice(time,0))\n",
    "    return(image,)"
   ]
  },
  {
   "cell_type": "code",
   "execution_count": null,
   "metadata": {},
   "outputs": [],
   "source": [
    "anim = animation.FuncAnimation(fig, display_slice_in_time,frames=[i for i in range(1,49,1)],\n",
    "                               blit=True)\n",
    "#rc('animation', html='jshtml')"
   ]
  },
  {
   "cell_type": "code",
   "execution_count": null,
   "metadata": {},
   "outputs": [],
   "source": [
    "anim"
   ]
  },
  {
   "cell_type": "code",
   "execution_count": null,
   "metadata": {},
   "outputs": [],
   "source": [
    "# An animation from begining to end can also be saved directly to disk as an MPEG video file\n",
    "writervideo = animation.FFMpegWriter(fps=30, codec='theora') \n",
    "MovieFileName = \"/users/jfavre/movie2.ogv\"\n",
    "anim.save(MovieFileName, writer=writervideo)"
   ]
  },
  {
   "cell_type": "code",
   "execution_count": null,
   "metadata": {},
   "outputs": [],
   "source": [
    "from ipywidgets import Video\n",
    "video = Video.from_file(MovieFileName)\n",
    "video"
   ]
  },
  {
   "cell_type": "code",
   "execution_count": null,
   "metadata": {},
   "outputs": [],
   "source": []
  }
 ],
 "metadata": {
  "kernelspec": {
   "display_name": "Python 3",
   "language": "python",
   "name": "python3"
  },
  "language_info": {
   "codemirror_mode": {
    "name": "ipython",
    "version": 3
   },
   "file_extension": ".py",
   "mimetype": "text/x-python",
   "name": "python",
   "nbconvert_exporter": "python",
   "pygments_lexer": "ipython3",
   "version": "3.8.5"
  }
 },
 "nbformat": 4,
 "nbformat_minor": 4
}
