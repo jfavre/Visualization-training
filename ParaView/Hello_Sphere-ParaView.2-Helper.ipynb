{
 "cells": [
  {
   "cell_type": "markdown",
   "id": "b0121793",
   "metadata": {},
   "source": [
    "This notebook is a companion to the driver Hello_Sphere-ParaView.2.ipynb which will attempt to connect to the paralle ParaView server running here.\n",
    "\n",
    "We will run pvserver and wait for a connection.\n",
    "\n",
    "Tested: Wed Aug 24 10:47:35 CEST 2022"
   ]
  },
  {
   "cell_type": "code",
   "execution_count": 1,
   "id": "e0c7853e",
   "metadata": {},
   "outputs": [
    {
     "name": "stdout",
     "output_type": "stream",
     "text": [
      "\r\n",
      "--------- /apps/daint/UES/jenkins/7.0.UP03/21.09/daint-gpu/modules/all ---------\r\n",
      "ParaView/5.10.0-CrayGNU-21.09-EGL(default)\r\n",
      "ParaView/5.10.1-CrayGNU-21.09-EGL\r\n"
     ]
    }
   ],
   "source": [
    "!module avail ParaView"
   ]
  },
  {
   "cell_type": "code",
   "execution_count": 2,
   "id": "a0a4c3fd",
   "metadata": {},
   "outputs": [],
   "source": [
    "!module load  ParaView/5.10.1-CrayGNU-21.09-EGL"
   ]
  },
  {
   "cell_type": "code",
   "execution_count": 3,
   "id": "ee0ae07d",
   "metadata": {},
   "outputs": [
    {
     "name": "stdout",
     "output_type": "stream",
     "text": [
      "/apps/daint/UES/jenkins/7.0.UP03/21.09/daint-gpu/software/ParaView/5.10.1-CrayGNU-21.09-EGL/bin/pvserver\r\n"
     ]
    }
   ],
   "source": [
    "!which pvserver"
   ]
  },
  {
   "cell_type": "code",
   "execution_count": 4,
   "id": "71ff8a72",
   "metadata": {},
   "outputs": [
    {
     "name": "stdout",
     "output_type": "stream",
     "text": [
      "Waiting for client...\n",
      "Connection URL: cs://nid02292:11111\n",
      "Accepting connection(s): nid02292:11111\n",
      "Client connected.\n",
      "\u001b[0m\u001b[31m( 101.947s) [pvserver.0      ]vtkSocketCommunicator.c:781    ERR| vtkSocketCommunicator (0x7dbfe0): Could not receive tag. 1\u001b[0m\n",
      "\u001b[0m\u001b[31m( 101.947s) [pvserver.0      ]vtkTCPNetworkAccessMana:296    ERR| vtkTCPNetworkAccessManager (0x703830): Some error in socket processing.\u001b[0m\n",
      "Exiting...\n",
      "Exiting...\n",
      "Exiting...\n",
      "Exiting...\n",
      "^C\n",
      "srun: interrupt (one more within 1 sec to abort)\n",
      "srun: StepId=40813179.2 tasks 0-3: running\n"
     ]
    }
   ],
   "source": [
    "!srun -n 4 pvserver"
   ]
  }
 ],
 "metadata": {
  "kernelspec": {
   "display_name": "myenv-kernel",
   "language": "python",
   "name": "myenv-kernel"
  },
  "language_info": {
   "codemirror_mode": {
    "name": "ipython",
    "version": 3
   },
   "file_extension": ".py",
   "mimetype": "text/x-python",
   "name": "python",
   "nbconvert_exporter": "python",
   "pygments_lexer": "ipython3",
   "version": "3.9.4"
  }
 },
 "nbformat": 4,
 "nbformat_minor": 5
}
