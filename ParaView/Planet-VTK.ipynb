{
 "cells": [
  {
   "cell_type": "code",
   "execution_count": null,
   "metadata": {},
   "outputs": [],
   "source": [
    "from itkwidgets import view\n",
    "from ipywidgets import widgets, interactive\n",
    "import numpy as np\n",
    "from vtkmodules.vtkIOXML import vtkXMLPolyDataReader\n",
    "from vtkmodules.vtkFiltersPoints import *\n",
    "from vtk import vtkIdList, vtkOutlineFilter, VTK_POLY_VERTEX\n",
    "# Tested Fri 14 May 2021 04:28:25 PM CEST"
   ]
  },
  {
   "cell_type": "markdown",
   "metadata": {},
   "source": [
    "# Read a point cloud from disk"
   ]
  },
  {
   "cell_type": "code",
   "execution_count": null,
   "metadata": {},
   "outputs": [],
   "source": [
    "planet = vtkXMLPolyDataReader()\n",
    "planet.SetFileName(\"/scratch/snx3000/jfavre/PlanetsForming/PlanetsForming_0_0.vtp\")\n",
    "planet.SetPointArrayStatus(\"Mass\",0)\n",
    "planet.SetPointArrayStatus(\"rho\",1)\n",
    "planet.SetPointArrayStatus(\"hsmooth\",0)\n",
    "planet.Update()\n",
    "planet.GetOutput().GetPointData().SetActiveScalars(\"rho\")\n",
    "print(\"Planet has\", planet.GetOutput().GetNumberOfPoints(), \"vertices\")"
   ]
  },
  {
   "cell_type": "code",
   "execution_count": null,
   "metadata": {},
   "outputs": [],
   "source": [
    "hBin = vtkHierarchicalBinningFilter()\n",
    "hBin.SetInputConnection(planet.GetOutputPort())\n",
    "#hBin.AutomaticOn()\n",
    "hBin.AutomaticOff()\n",
    "hBin.SetDivisions(2,2,2)\n",
    "hBin.SetBounds(planet.GetOutput().GetBounds())\n",
    "hBin.Update()\n",
    "print(hBin.GetNumberOfLevels())\n",
    "print(hBin.GetNumberOfGlobalBins())\n",
    "for i in range(hBin.GetNumberOfLevels()):\n",
    "    print(hBin.GetNumberOfBins(i))"
   ]
  },
  {
   "cell_type": "code",
   "execution_count": null,
   "metadata": {},
   "outputs": [],
   "source": [
    "\n",
    "extBin = vtkExtractHierarchicalBins()\n",
    "extBin.SetInputConnection(hBin.GetOutputPort())\n",
    "extBin.SetBinningFilter(hBin)\n",
    "extBin.SetLevel(0)\n",
    "extBin.SetBin(0)\n",
    "extBin.Update()\n",
    "nnodes = extBin.GetOutput().GetNumberOfPoints()\n",
    "ptIds = vtkIdList()\n",
    "ptIds.SetNumberOfIds(nnodes)\n",
    "for a in range(nnodes):\n",
    "  ptIds.SetId(a, a)\n",
    "extBin.GetOutput().Allocate(1)\n",
    "extBin.GetOutput().InsertNextCell(VTK_POLY_VERTEX , ptIds)\n",
    "print(extBin.GetOutput().GetNumberOfPoints())"
   ]
  },
  {
   "cell_type": "code",
   "execution_count": null,
   "metadata": {},
   "outputs": [],
   "source": [
    "# Create an outline\n",
    "outline = vtkOutlineFilter()\n",
    "outline.SetInputConnection(planet.GetOutputPort())\n",
    "outline.Update()"
   ]
  },
  {
   "cell_type": "code",
   "execution_count": null,
   "metadata": {},
   "outputs": [],
   "source": [
    "viewer = view(geometries=[], point_sets=[extBin.GetOutput()])\n",
    "\n",
    "def SelectLevel(l):\n",
    "    extBin.SetLevel(l)\n",
    "    extBin.SetBin(-1)\n",
    "    extBin.Update()\n",
    "    nnodes = extBin.GetOutput().GetNumberOfPoints()\n",
    "    ptIds = vtkIdList()\n",
    "    ptIds.SetNumberOfIds(nnodes)\n",
    "    for a in range(nnodes):\n",
    "      ptIds.SetId(a, a)\n",
    "    extBin.GetOutput().Allocate(1)\n",
    "    extBin.GetOutput().InsertNextCell(VTK_POLY_VERTEX , ptIds)\n",
    "    viewer.point_sets=[extBin.GetOutput()]\n",
    "    \n",
    "slider = interactive(SelectLevel, l=(0,1))\n",
    "widgets.VBox([viewer, slider])"
   ]
  },
  {
   "cell_type": "code",
   "execution_count": null,
   "metadata": {},
   "outputs": [],
   "source": []
  }
 ],
 "metadata": {
  "kernelspec": {
   "display_name": "Python 3",
   "language": "python",
   "name": "python3"
  },
  "language_info": {
   "codemirror_mode": {
    "name": "ipython",
    "version": 3
   },
   "file_extension": ".py",
   "mimetype": "text/x-python",
   "name": "python",
   "nbconvert_exporter": "python",
   "pygments_lexer": "ipython3",
   "version": "3.8.5"
  }
 },
 "nbformat": 4,
 "nbformat_minor": 4
}
