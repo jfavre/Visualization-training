{
 "cells": [
  {
   "cell_type": "markdown",
   "metadata": {},
   "source": [
    "# ParaView Volume Rendering with parallel tasks on the local node"
   ]
  },
  {
   "cell_type": "code",
   "execution_count": null,
   "metadata": {},
   "outputs": [],
   "source": [
    "from paraview.simple import *\n",
    "from paraview.modules.vtkRemotingCore import vtkProcessModule"
   ]
  },
  {
   "cell_type": "markdown",
   "metadata": {},
   "source": [
    "we first launch a parallel MPI pvserver on the node, using a terminal\n",
    "The jupyter client will connect to its server on the same node"
   ]
  },
  {
   "cell_type": "markdown",
   "metadata": {},
   "source": [
    "#\n",
    "srun  -n 8 pvserver"
   ]
  },
  {
   "cell_type": "code",
   "execution_count": null,
   "metadata": {},
   "outputs": [],
   "source": [
    "Connect(\"localhost\")"
   ]
  },
  {
   "cell_type": "code",
   "execution_count": null,
   "metadata": {},
   "outputs": [],
   "source": [
    "#gs = GetSettingsProxy(\"RenderViewSettings\")\n",
    "#gs.SetPropertyWithName(\"DisableIceT\", 0)\n",
    "\n",
    "rank = vtkProcessModule.GetProcessModule().GetPartitionId()\n",
    "nbprocs = servermanager.ActiveConnection.GetNumberOfDataPartitions()\n",
    "info = GetOpenGLInformation(location=servermanager.vtkSMSession.RENDER_SERVER)"
   ]
  },
  {
   "cell_type": "code",
   "execution_count": null,
   "metadata": {},
   "outputs": [],
   "source": [
    "Version = str(GetParaViewVersion())\n",
    "if rank == 0:\n",
    "    print(\"ParaView Version \", Version)\n",
    "    print(\"rank=\", rank, \"/\", nbprocs)\n",
    "    print(\"Vendor:   %s\" % info.GetVendor())\n",
    "    print(\"Version:  %s\" % info.GetVersion())\n",
    "    print(\"Renderer: %s\" % info.GetRenderer())"
   ]
  },
  {
   "cell_type": "code",
   "execution_count": null,
   "metadata": {},
   "outputs": [],
   "source": [
    "reader = ImageReader(FileNames=['/scratch/snx3000/jfavre/NVIDIA/50.density-log_1024x1024x2048_float.raw'])\n",
    "reader.DataScalarType = 'float'\n",
    "reader.DataByteOrder = 'LittleEndian'\n",
    "reader.DataExtent = [0, 2047, 0, 1023, 0, 1023]"
   ]
  },
  {
   "cell_type": "code",
   "execution_count": null,
   "metadata": {},
   "outputs": [],
   "source": [
    "renderView = GetActiveView()\n",
    "rep = Show(reader, GetActiveView())\n",
    "rep.Representation = 'Outline'\n",
    "rep.ColorArrayName = ['POINTS', 'ImageFile']\n",
    "\n",
    "ImageFileLUT = GetColorTransferFunction('ImageFile')\n",
    "ImageFileLUT.RGBPoints = [1.206409215927124, 0.231373, 0.298039, 0.752941, 5.729784369468689, 0.865003, 0.865003, 0.865003, 10.253159523010254, 0.705882, 0.0156863,\n",
    " 0.14902]\n",
    "ImageFileLUT.ScalarRangeInitialized = 1.0\n",
    "\n",
    "# get opacity transfer function/opacity map for 'MetaImage'\n",
    "ImageFilePWF = GetOpacityTransferFunction('ImageFile')\n",
    "ImageFilePWF.Points = [1.206409215927124, 0.0, 0.5, 0.0, 10.253159523010254, 1.0, 0.5, 0.0]\n",
    "ImageFilePWF.ScalarRangeInitialized = 1\n",
    "\n",
    "# Here I recommend to wait until the cell has really finished to run.\n",
    "# recall that we are running in parallel on the node and some extra sync does not hurt."
   ]
  },
  {
   "cell_type": "code",
   "execution_count": null,
   "metadata": {},
   "outputs": [],
   "source": [
    "from ipyparaview.widgets import PVDisplay\n",
    "pvdisp = PVDisplay(GetActiveView())\n",
    "w = display(pvdisp)"
   ]
  },
  {
   "cell_type": "code",
   "execution_count": null,
   "metadata": {},
   "outputs": [],
   "source": [
    "def SaveImage(filename):\n",
    "  from vtk import vtkPNGWriter\n",
    "  img_writer = vtkPNGWriter()\n",
    "  img_writer.SetInputConnection(pvdisp.w2i.GetOutputPort())\n",
    "  img_writer.SetFileName(filename)\n",
    "  img_writer.Write()\n",
    "\n",
    "# save animage on the client-side\n",
    "SaveImage(\"/users/jfavre/foo2.png\")"
   ]
  },
  {
   "cell_type": "code",
   "execution_count": null,
   "metadata": {},
   "outputs": [],
   "source": [
    "# let us see what are all the view options?\n",
    "rep.Representation.Available"
   ]
  },
  {
   "cell_type": "code",
   "execution_count": null,
   "metadata": {},
   "outputs": [],
   "source": [
    "rep.Representation = 'Volume'\n",
    "rep.LookupTable = ImageFileLUT\n",
    "rep.OpacityArray = ['POINTS', 'ImageFile']\n",
    "rep.OpacityTransferFunction = 'PiecewiseFunction'\n",
    "rep.ScalarOpacityUnitDistance = 4\n",
    "rep.ScalarOpacityFunction = ImageFilePWF"
   ]
  },
  {
   "cell_type": "code",
   "execution_count": null,
   "metadata": {},
   "outputs": [],
   "source": [
    "ResetCamera()"
   ]
  },
  {
   "cell_type": "markdown",
   "metadata": {},
   "source": [
    "We can cleanly close the connection with the following command"
   ]
  },
  {
   "cell_type": "code",
   "execution_count": null,
   "metadata": {},
   "outputs": [],
   "source": [
    "Disconnect()"
   ]
  },
  {
   "cell_type": "code",
   "execution_count": null,
   "metadata": {},
   "outputs": [],
   "source": [
    "rep.Representation = 'Surface'\n",
    "ColorBy(rep, 'vtkProcessId')"
   ]
  },
  {
   "cell_type": "code",
   "execution_count": null,
   "metadata": {},
   "outputs": [],
   "source": [
    "processIdLUT = GetColorTransferFunction('vtkProcessId')\n",
    "processIdLUT.AnnotationsInitialized = 1\n",
    "processIdLUT.InterpretValuesAsCategories = 1\n",
    "\n",
    "# we take colors from the pre-defined \"KAAMS\" found in\n",
    "# ParaViewCore/ServerManager/Rendering/ColorMaps.json\n",
    "IndexedColors = [\n",
    "    1.0, 1.0, 1.0,\n",
    "    1.0, 0.0, 0.0,\n",
    "    0.0, 1.0, 0.0,\n",
    "    0.0, 0.0, 1.0,\n",
    "    1.0, 1.0, 0.0,\n",
    "    1.0, 0.0, 1.0,\n",
    "    0.0, 1.0, 1.0,\n",
    "    0.63, 0.63, 1.0,\n",
    "    0.67, 0.5, 0.33,\n",
    "    1.0, 0.5, 0.75,\n",
    "    0.53, 0.35, 0.7,\n",
    "    1.0, 0.75, 0.5\n",
    "]\n",
    "\n",
    "a = []\n",
    "for i in range(nbprocs):\n",
    "    a.extend((str(i), str(i)))\n",
    "\n",
    "processIdLUT.Annotations = a\n",
    "processIdLUT.IndexedColors = IndexedColors"
   ]
  },
  {
   "cell_type": "code",
   "execution_count": null,
   "metadata": {},
   "outputs": [],
   "source": []
  }
 ],
 "metadata": {
  "kernelspec": {
   "display_name": "Python 3",
   "language": "python",
   "name": "python3"
  },
  "language_info": {
   "codemirror_mode": {
    "name": "ipython",
    "version": 3
   },
   "file_extension": ".py",
   "mimetype": "text/x-python",
   "name": "python",
   "nbconvert_exporter": "python",
   "pygments_lexer": "ipython3",
   "version": "3.8.5"
  }
 },
 "nbformat": 4,
 "nbformat_minor": 4
}
