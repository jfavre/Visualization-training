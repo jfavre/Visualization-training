{
 "cells": [
  {
   "cell_type": "code",
   "execution_count": null,
   "metadata": {},
   "outputs": [],
   "source": [
    "from paraview.simple import *\n",
    "import numpy as np\n",
    "\n",
    "from vtkGridConstructors import *\n",
    "\n",
    "# Tested Sun May 16 12:50:07 CEST 2021"
   ]
  },
  {
   "cell_type": "code",
   "execution_count": null,
   "metadata": {},
   "outputs": [],
   "source": [
    "view = GetRenderView()\n",
    "from ipyparaview.widgets import PVDisplay\n",
    "pvdisp = PVDisplay(view)\n",
    "w = display(pvdisp)"
   ]
  },
  {
   "cell_type": "markdown",
   "metadata": {},
   "source": [
    "# Create a Spherical Grid"
   ]
  },
  {
   "cell_type": "code",
   "execution_count": null,
   "metadata": {},
   "outputs": [],
   "source": [
    "ReqDataScript = \"\"\"\n",
    "import numpy as np\n",
    "from vtk.numpy_interface import algorithms as algs\n",
    "from vtkGridConstructors import vtkStructuredGridFromArrays\n",
    "\n",
    "executive = self.GetExecutive()\n",
    "outInfo = executive.GetOutputInformation(0)\n",
    "exts = [executive.UPDATE_EXTENT().Get(outInfo, i) for i in range(6)]\n",
    "whole = [executive.WHOLE_EXTENT().Get(outInfo, i) for i in range(6)]\n",
    "\n",
    "global_dims = ([whole[1]-whole[0]+1, whole[3]-whole[2]+1, whole[5]-whole[4]+1])\n",
    "\n",
    "output.SetExtent(exts)\n",
    "\n",
    "Raxis = np.linspace(1., 2., global_dims[0])[exts[0]:exts[1]+1]\n",
    "\n",
    "# only use 3/4 of the full longitude in order to view the inside of the sphere\n",
    "Thetaaxis = np.linspace(0.,np.pi*1.5, global_dims[1])[exts[2]:exts[3]+1]\n",
    "\n",
    "Phiaxis = np.linspace(0.,np.pi*1.0, global_dims[2])[exts[4]:exts[5]+1]\n",
    "\n",
    "p, t, r = np.meshgrid(Phiaxis, Thetaaxis, Raxis, indexing=\"ij\")\n",
    "X = r * np.cos(t) * np.sin(p)\n",
    "Y = r * np.sin(t) * np.sin(p)\n",
    "Z = r * np.cos(p)\n",
    "\n",
    "G = vtkStructuredGridFromArrays()\n",
    "\n",
    "G.SetCoordinates(X, Y, Z)\n",
    "G.AddArray(r.ravel(), \"radius\")\n",
    "G.AddArray(t.ravel(), \"theta\")\n",
    "G.AddArray(p.ravel(), \"phi\")\n",
    "# reduce dimension of array by 1 in all directions\n",
    "G.AddCellArray(p[1:,1:,1:].ravel(), \"phi\")\n",
    "\n",
    "V = algs.make_vector(X.ravel(),\n",
    "                   Y.ravel(),\n",
    "                   Z.ravel())\n",
    "                   \n",
    "# V is a 2D array of shape(np.prod(global_dims), 3)\n",
    "G.AddArray(V, \"Velocity\")\n",
    "\n",
    "# reduce dimension of array by 1 in all directions, except the last to keep velocity a 3-tuple\n",
    "Vcell = V.reshape(global_dims[2],global_dims[1],global_dims[0],3)[1:,1:,1:,:].reshape((global_dims[0]-1)*(global_dims[1]-1)*(global_dims[2]-1), 3)\n",
    "G.AddCellArray(Vcell, \"Velocity\")\n",
    "\n",
    "output.ShallowCopy(G.GetOutput())\n",
    "\"\"\"\n",
    "\n",
    "ReqInfoScript = \"\"\"\n",
    "executive = self.GetExecutive()\n",
    "outInfo = executive.GetOutputInformation(0)\n",
    "# A 3D spherical mesh\n",
    "dims = [5, 9, 7] # radius, theta(east-west longitude), phi(north-south latitude)\n",
    "outInfo.Set(executive.WHOLE_EXTENT(), 0, dims[0]-1 , 0, dims[1]-1 , 0, dims[2]-1)\n",
    "outInfo.Set(vtk.vtkAlgorithm.CAN_PRODUCE_SUB_EXTENT(), 1)\n",
    "\"\"\"\n",
    "\n",
    "SphericalGrid = ProgrammableSource(registrationName=\"SphericalGrid\")\n",
    "SphericalGrid.OutputDataSetType = 'vtkStructuredGrid'\n",
    "SphericalGrid.Script = ReqDataScript\n",
    "SphericalGrid.ScriptRequestInformation = ReqInfoScript"
   ]
  },
  {
   "cell_type": "code",
   "execution_count": null,
   "metadata": {},
   "outputs": [],
   "source": [
    "rep0 = Show(SphericalGrid, view)\n",
    "rep0.Representation = 'Surface With Edges'\n",
    "ColorBy(rep0,\"radius\")"
   ]
  },
  {
   "cell_type": "code",
   "execution_count": null,
   "metadata": {},
   "outputs": [],
   "source": [
    "ResetCamera()"
   ]
  },
  {
   "cell_type": "code",
   "execution_count": null,
   "metadata": {},
   "outputs": [],
   "source": [
    "Hide(SphericalGrid)"
   ]
  },
  {
   "cell_type": "markdown",
   "metadata": {},
   "source": [
    "# A cartesian grid, a.k.a. vtkImageData"
   ]
  },
  {
   "cell_type": "code",
   "execution_count": null,
   "metadata": {},
   "outputs": [],
   "source": [
    "dims = [64,64,64]\n",
    "bounds = (-10.0, 10.0, -10.0, 10.0,-10.0, 10.0)\n",
    "xaxis = np.linspace(bounds[0], bounds[1], dims[0])\n",
    "yaxis = np.linspace(bounds[2], bounds[3], dims[1])\n",
    "zaxis = np.linspace(bounds[4], bounds[5], dims[2])\n",
    "[xc,yc,zc] = np.meshgrid(zaxis,yaxis,xaxis, indexing=\"ij\")\n",
    "data = xc**2 + yc**2 + zc**2\n",
    "\n",
    "from vtk.util.vtkImageImportFromArray import vtkImageImportFromArray\n",
    "iD = vtkImageImportFromArray()\n",
    "iD.SetArray(data) # it is given the name \"scalars\" by default\n",
    "iD.SetDataOrigin((bounds[0], bounds[2], bounds[4]))\n",
    "iD.SetDataSpacing(((bounds[1]-bounds[0])/(dims[0]-1),\n",
    "                   (bounds[3]-bounds[2])/(dims[0]-1),\n",
    "                   (bounds[5]-bounds[4])/(dims[0]-1)))\n",
    "iD.Update()\n",
    "iD.GetOutput().GetPointData().SetActiveScalars(\"scalars\")\n",
    "\n",
    "print(\"mesh dimensions = \", iD.GetOutput().GetDimensions())\n",
    "assert iD.GetOutput().GetPointData().GetArray(0).GetName() == 'scalars'\n",
    "datarange = iD.GetOutput().GetPointData().GetArray(0).GetRange()\n",
    "print(\"data scalar range = \", datarange)\n",
    "\n",
    "# create a new 'PVTrivialProducer'\n",
    "CartesianGrid = PVTrivialProducer(registrationName=\"CartesianGrid\")\n",
    "obj = CartesianGrid.GetClientSideObject()\n",
    "obj.SetOutput(iD.GetOutput())\n",
    "CartesianGrid.UpdatePipeline()\n",
    "\n",
    "rep0 = Show(CartesianGrid)\n",
    "rep0.Representation = 'Surface With Edges'"
   ]
  },
  {
   "cell_type": "code",
   "execution_count": null,
   "metadata": {},
   "outputs": [],
   "source": [
    "ColorBy(rep0, \"scalars\")\n",
    "rep0.Representation = 'Surface'"
   ]
  },
  {
   "cell_type": "code",
   "execution_count": null,
   "metadata": {},
   "outputs": [],
   "source": [
    "ResetCamera()"
   ]
  },
  {
   "cell_type": "code",
   "execution_count": null,
   "metadata": {},
   "outputs": [],
   "source": [
    "Hide(CartesianGrid)"
   ]
  },
  {
   "cell_type": "markdown",
   "metadata": {},
   "source": [
    "# Create a cylindrical - structured grid"
   ]
  },
  {
   "cell_type": "code",
   "execution_count": null,
   "metadata": {},
   "outputs": [],
   "source": [
    "dims = [13,27,15] # Radius dimension, Theta dimension, Z dimension\n",
    "Raxis = np.linspace(1., 2., dims[0])\n",
    "Thetaaxis = np.linspace(0.,np.pi*1.5, dims[1])\n",
    "Zaxis = np.linspace(0., 2.0, dims[2])\n",
    "Z, t, r = np.meshgrid(Zaxis, Thetaaxis, Raxis, indexing=\"ij\")\n",
    "X = r * np.cos(t)\n",
    "Y = r * np.sin(t)\n",
    "\n",
    "NsG = vtkStructuredGridFromArrays()\n",
    "NsG.SetCoordinates(X, Y, Z)\n",
    "NsG.AddArray(r.ravel(), \"radius\")\n",
    "NsG.AddArray(Z.ravel(), \"z-elevation\")\n",
    "NsG.AddArray(t.ravel(), \"angle\")\n",
    "\n",
    "print(\"StructuredGrid mesh dimensions = \", NsG.GetDimensions())\n",
    "print(\"StructuredGrid mesh bounds = \", NsG.GetOutput().GetBounds())\n",
    "assert NsG.GetOutput().GetPointData().GetArray(1).GetName() == 'z-elevation'\n",
    "datarange = NsG.GetOutput().GetPointData().GetArray(\"z-elevation\").GetRange()\n",
    "print(\"StructuredGrid data scalar range = \", datarange)\n",
    "\n",
    "CylindricalGrid = PVTrivialProducer(registrationName=\"CylindricalGrid\")\n",
    "obj = CylindricalGrid.GetClientSideObject()\n",
    "obj.SetOutput(NsG.GetOutput())\n",
    "CylindricalGrid.UpdatePipeline()\n",
    "\n",
    "rep2 = Show(CylindricalGrid)\n",
    "rep2.Representation = 'Surface With Edges'\n",
    "\n",
    "ColorBy(rep2, \"radius\")"
   ]
  },
  {
   "cell_type": "code",
   "execution_count": null,
   "metadata": {},
   "outputs": [],
   "source": [
    "ResetCamera()"
   ]
  },
  {
   "cell_type": "code",
   "execution_count": null,
   "metadata": {},
   "outputs": [],
   "source": [
    "Hide(CylindricalGrid)"
   ]
  },
  {
   "cell_type": "markdown",
   "metadata": {},
   "source": [
    "# Create a point cloud"
   ]
  },
  {
   "cell_type": "code",
   "execution_count": null,
   "metadata": {},
   "outputs": [],
   "source": [
    "nbpts = 10000\n",
    "X = np.random.random_sample((nbpts, 3))\n",
    "\n",
    "PC = vtkPointSetFromArrays()\n",
    "#PC.SetCoordinates(X[:,0], X[:,1],X[:,2])\n",
    "PC.SetVCoordinates(X)\n",
    "PC.AddArray(X[:,0]*X[:,0] + X[:,1]*X[:,1] + X[:,2]*X[:,2], \"distancesq\")\n",
    "PC.AddArray(X[:,0], \"X\")\n",
    "\n",
    "print(\"Point Cloud has\", PC.GetOutput().GetNumberOfPoints(), \"vertices\")\n",
    "# create a new 'PVTrivialProducer'\n",
    "PointCloud = PVTrivialProducer(guiName=\"Point Cloud\")\n",
    "obj = PointCloud.GetClientSideObject()\n",
    "obj.SetOutput(PC.GetOutput())\n",
    "PointCloud.UpdatePipeline()\n",
    "\n",
    "rep3=Show(PointCloud)\n",
    "rep3.Representation = 'Points'\n",
    "ColorBy(rep3, 'distancesq')"
   ]
  },
  {
   "cell_type": "code",
   "execution_count": null,
   "metadata": {},
   "outputs": [],
   "source": [
    "ResetCamera()"
   ]
  },
  {
   "cell_type": "code",
   "execution_count": null,
   "metadata": {},
   "outputs": [],
   "source": [
    "Hide(PointCloud)"
   ]
  },
  {
   "cell_type": "markdown",
   "metadata": {},
   "source": [
    "# Create a Rectilinear Grid"
   ]
  },
  {
   "cell_type": "code",
   "execution_count": null,
   "metadata": {},
   "outputs": [],
   "source": [
    "dims = [64,64,64] # Radius dimension, Theta dimension, Z dimension\n",
    "xaxis = np.linspace(0., 1., dims[0])\n",
    "xaxis = xaxis**2\n",
    "yaxis = np.linspace(0., 1., dims[1])\n",
    "yaxis = np.sqrt(yaxis)\n",
    "zaxis = np.linspace(0., 1., dims[2])\n",
    "\n",
    "[xc,yc,zc] = np.meshgrid(zaxis,yaxis,xaxis, indexing=\"ij\")\n",
    "data = np.sqrt(xc**2 + yc**2 + zc**2)\n",
    "\n",
    "rG = vtkRectGridFromArrays()\n",
    "rG.SetCoordinates(xaxis, yaxis, zaxis)\n",
    "rG.AddArray(data.ravel(), \"scalars\")\n",
    "\n",
    "print(\"RectilinearGrid dimensions = \", rG.GetDimensions())\n",
    "assert rG.GetOutput().GetPointData().GetArray(0).GetName() == 'scalars'\n",
    "datarange = rG.GetOutput().GetPointData().GetArray(\"scalars\").GetRange()\n",
    "print(\"RectilinearGrid  data scalar range = \", datarange)\n",
    "\n",
    "# create a new 'PVTrivialProducer'\n",
    "RectilinearGrid = PVTrivialProducer(registrationName=\"RectilinearGrid\")\n",
    "obj = RectilinearGrid.GetClientSideObject()\n",
    "obj.SetOutput(rG.GetOutput())\n",
    "RectilinearGrid.UpdatePipeline()\n",
    "\n",
    "rep1 = Show(RectilinearGrid)\n",
    "rep1.Representation = 'Surface With Edges'\n",
    "ColorBy(rep1, 'scalars')"
   ]
  },
  {
   "cell_type": "code",
   "execution_count": null,
   "metadata": {},
   "outputs": [],
   "source": [
    "ResetCamera()"
   ]
  },
  {
   "cell_type": "code",
   "execution_count": null,
   "metadata": {},
   "outputs": [],
   "source": [
    "rep1.Representation = 'Surface'"
   ]
  },
  {
   "cell_type": "code",
   "execution_count": null,
   "metadata": {},
   "outputs": [],
   "source": []
  }
 ],
 "metadata": {
  "kernelspec": {
   "display_name": "Python 3",
   "language": "python",
   "name": "python3"
  },
  "language_info": {
   "codemirror_mode": {
    "name": "ipython",
    "version": 3
   },
   "file_extension": ".py",
   "mimetype": "text/x-python",
   "name": "python",
   "nbconvert_exporter": "python",
   "pygments_lexer": "ipython3",
   "version": "3.8.5"
  }
 },
 "nbformat": 4,
 "nbformat_minor": 4
}
