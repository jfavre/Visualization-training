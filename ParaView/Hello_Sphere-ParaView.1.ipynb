{
 "cells": [
  {
   "cell_type": "markdown",
   "metadata": {},
   "source": [
    "# ParaView Hello Sphere Test 1\n",
    "This notebook creates a synthetic data source (a sphere), and creates a polygonal display of it.\n",
    "Then, it creates a ParaView display widget showing the primary render view.\n",
    "The notebook further demonstrates how we may use interaction widgets (sliders), to change the resolution of the sphere."
   ]
  },
  {
   "cell_type": "code",
   "execution_count": 1,
   "metadata": {},
   "outputs": [],
   "source": [
    "from paraview.simple import *"
   ]
  },
  {
   "cell_type": "code",
   "execution_count": 2,
   "metadata": {},
   "outputs": [
    {
     "name": "stdout",
     "output_type": "stream",
     "text": [
      "ParaView Version  5.9\n",
      "Vendor:   NVIDIA Corporation\n",
      "Version:  4.6.0 NVIDIA 450.51.05\n",
      "Renderer: Tesla P100-PCIE-16GB/PCIe/SSE2\n"
     ]
    }
   ],
   "source": [
    "Version = str(GetParaViewVersion())\n",
    "info = GetOpenGLInformation(location=servermanager.vtkSMSession.RENDER_SERVER)\n",
    "\n",
    "print(\"ParaView Version \", Version)\n",
    "print(\"Vendor:   %s\" % info.GetVendor())\n",
    "print(\"Version:  %s\" % info.GetVersion())\n",
    "print(\"Renderer: %s\" % info.GetRenderer())"
   ]
  },
  {
   "cell_type": "code",
   "execution_count": 3,
   "metadata": {},
   "outputs": [],
   "source": [
    "sphere = Sphere(ThetaResolution=32, PhiResolution=32)\n",
    "\n",
    "rep = Show(sphere, GetActiveView())\n",
    "rep.Representation='Surface With Edges'"
   ]
  },
  {
   "cell_type": "code",
   "execution_count": 4,
   "metadata": {},
   "outputs": [
    {
     "data": {
      "application/vnd.jupyter.widget-view+json": {
       "model_id": "da4786dc5d3b4d71b559df828e1566a7",
       "version_major": 2,
       "version_minor": 0
      },
      "text/plain": [
       "PVDisplay(resolution=(400, 400))"
      ]
     },
     "metadata": {},
     "output_type": "display_data"
    }
   ],
   "source": [
    "view = GetRenderView()\n",
    "from ipyparaview.widgets import PVDisplay\n",
    "pvdisp = PVDisplay(view)\n",
    "w = display(pvdisp)"
   ]
  },
  {
   "cell_type": "code",
   "execution_count": null,
   "metadata": {},
   "outputs": [],
   "source": [
    "# Any ParaView object has a list of animatable parameters\n",
    "sphere.ListProperties()"
   ]
  },
  {
   "cell_type": "code",
   "execution_count": null,
   "metadata": {},
   "outputs": [],
   "source": [
    "# Interact from ipywidgets gives us a simple way to interactively control values\n",
    "# with a callback function\n",
    "from ipywidgets import interact, IntSlider\n",
    "\n",
    "\n",
    "# set the Theta and Phi resolution and trigger a pipeline update\n",
    "def Sphere_resolution(res):\n",
    "    sphere.ThetaResolution = sphere.PhiResolution = res\n",
    "    sphere.UpdatePipeline()\n",
    "    \n",
    "i = interact(Sphere_resolution, res=IntSlider(min=3, max=48, step=1, value=12))"
   ]
  },
  {
   "cell_type": "code",
   "execution_count": null,
   "metadata": {},
   "outputs": [],
   "source": [
    "def SaveImage(filename):\n",
    "  from vtk import vtkPNGWriter\n",
    "  img_writer = vtkPNGWriter()\n",
    "  img_writer.SetInputConnection(pvdisp.w2i.GetOutputPort())\n",
    "  img_writer.SetFileName(filename)\n",
    "  img_writer.Write()\n",
    "\n",
    "#SaveImage(\"/users/jfavre/foo2.png\")"
   ]
  },
  {
   "cell_type": "code",
   "execution_count": null,
   "metadata": {},
   "outputs": [],
   "source": [
    "def animate():\n",
    "  for i in range(48):\n",
    "    Sphere_resolution(i)\n",
    "    SaveImage(format(\"/dev/shm/foo%02d.png\" % i))"
   ]
  },
  {
   "cell_type": "code",
   "execution_count": null,
   "metadata": {},
   "outputs": [],
   "source": [
    "animate()"
   ]
  },
  {
   "cell_type": "code",
   "execution_count": null,
   "metadata": {},
   "outputs": [],
   "source": [
    "!rm /scratch/snx3000/jfavre/foo.ogg"
   ]
  },
  {
   "cell_type": "code",
   "execution_count": null,
   "metadata": {},
   "outputs": [],
   "source": [
    "!ffmpeg -i /dev/shm/foo%02d.png /dev/shm/foo.ogg"
   ]
  },
  {
   "cell_type": "code",
   "execution_count": null,
   "metadata": {},
   "outputs": [],
   "source": [
    "from ipywidgets import Video"
   ]
  },
  {
   "cell_type": "code",
   "execution_count": null,
   "metadata": {},
   "outputs": [],
   "source": [
    "video = Video.from_file(\"/scratch/snx3000/jfavre/foo.ogg\")"
   ]
  },
  {
   "cell_type": "code",
   "execution_count": null,
   "metadata": {},
   "outputs": [],
   "source": [
    "video"
   ]
  },
  {
   "cell_type": "code",
   "execution_count": null,
   "metadata": {},
   "outputs": [],
   "source": []
  },
  {
   "cell_type": "code",
   "execution_count": null,
   "metadata": {},
   "outputs": [],
   "source": []
  }
 ],
 "metadata": {
  "kernelspec": {
   "display_name": "Python 3",
   "language": "python",
   "name": "python3"
  },
  "language_info": {
   "codemirror_mode": {
    "name": "ipython",
    "version": 3
   },
   "file_extension": ".py",
   "mimetype": "text/x-python",
   "name": "python",
   "nbconvert_exporter": "python",
   "pygments_lexer": "ipython3",
   "version": "3.8.5"
  }
 },
 "nbformat": 4,
 "nbformat_minor": 4
}
