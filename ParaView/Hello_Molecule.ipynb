{
 "cells": [
  {
   "cell_type": "markdown",
   "metadata": {},
   "source": [
    "# ParaView Hello Molecule Test\n",
    "This notebook reads a timeseries of molecular trajectories.\n",
    "Then, it creates a ParaView display widget showing the primary render view.\n",
    "The notebook further demonstrates how we may use interaction widgets (sliders), to change the timestep.\n",
    "Lastly, we switch to raytracing and to demonstrate a photo-realistic rendering, and create a movie\n",
    "\n",
    "Tested: Wed Aug 24 08:35:57 CEST 2022"
   ]
  },
  {
   "cell_type": "code",
   "execution_count": null,
   "metadata": {},
   "outputs": [],
   "source": [
    "from paraview.simple import *\n",
    "# to turn off some annoying warnings\n",
    "from vtkmodules.vtkCommonCore import vtkLogger\n",
    "vtkLogger.SetStderrVerbosity(vtkLogger.VERBOSITY_OFF)"
   ]
  },
  {
   "cell_type": "code",
   "execution_count": null,
   "metadata": {},
   "outputs": [],
   "source": [
    "Version = str(GetParaViewVersion())\n",
    "\n",
    "info = GetOpenGLInformation(location=servermanager.vtkSMSession.RENDER_SERVER)\n",
    "print(\"ParaView Version \", Version)\n",
    "print(\"Vendor:   %s\" % info.GetVendor())\n",
    "print(\"Version:  %s\" % info.GetVersion())\n",
    "print(\"Renderer: %s\" % info.GetRenderer())"
   ]
  },
  {
   "cell_type": "code",
   "execution_count": null,
   "metadata": {},
   "outputs": [],
   "source": [
    "molecule1 = XYZReader(FileName='/users/jfavre/Projects/Rizzi/release_H2_ex.xyz')\n",
    "nb_of_timesteps = len(molecule1.TimestepValues)\n",
    "print(\"Molecule trajectories with \", nb_of_timesteps, \" steps\")"
   ]
  },
  {
   "cell_type": "code",
   "execution_count": null,
   "metadata": {},
   "outputs": [],
   "source": [
    "computeMoleculeBonds1 = ComputeMoleculeBonds(Input=molecule1)\n",
    "computeMoleculeBonds1.UpdatePipeline()\n",
    "computeMoleculeBonds1Display = Show(computeMoleculeBonds1, GetActiveView())\n",
    "\n",
    "atomicNumbersLUT = GetColorTransferFunction('AtomicNumbers')\n",
    "atomicNumbersLUT.InterpretValuesAsCategories = 1\n",
    "atomicNumbersLUT.AnnotationsInitialized = 1\n",
    "atomicNumbersLUT.ShowCategoricalColorsinDataRangeOnly = 1\n",
    "\n",
    "atomicNumbersLUTColorBar = GetScalarBar(atomicNumbersLUT, GetActiveView())\n",
    "atomicNumbersLUTColorBar.Title = ''\n",
    "atomicNumbersLUTColorBar.ComponentTitle = ''\n",
    "\n",
    "# set color bar visibility\n",
    "atomicNumbersLUTColorBar.Visibility = 1\n",
    "atomicNumbersLUTColorBar.Orientation = 'Horizontal'\n",
    "atomicNumbersLUTColorBar.WindowLocation = 'Any Location'\n",
    "atomicNumbersLUTColorBar.Position = [0.65, 0.075]\n",
    "atomicNumbersLUTColorBar.ScalarBarLength = 0.3"
   ]
  },
  {
   "cell_type": "code",
   "execution_count": null,
   "metadata": {},
   "outputs": [],
   "source": [
    "# create a new 'Annotate Time Filter'\n",
    "annotateTimeFilter1 = AnnotateTimeFilter(Input=computeMoleculeBonds1)\n",
    "annotateTimeFilter1Display = Show(annotateTimeFilter1, GetActiveView())"
   ]
  },
  {
   "cell_type": "code",
   "execution_count": null,
   "metadata": {},
   "outputs": [],
   "source": [
    "from ipyparaview.widgets import PVDisplay\n",
    "renderView1 = GetActiveView()\n",
    "pvdisp = PVDisplay(renderView1)\n",
    "w = display(pvdisp)"
   ]
  },
  {
   "cell_type": "code",
   "execution_count": null,
   "metadata": {},
   "outputs": [],
   "source": [
    "ResetCamera()\n",
    "GetActiveCamera().Azimuth(30)\n",
    "GetActiveCamera().Elevation(15)\n",
    "GetActiveCamera().Dolly(2)"
   ]
  },
  {
   "cell_type": "code",
   "execution_count": null,
   "metadata": {},
   "outputs": [],
   "source": [
    "# Interact from ipywidgets gives us a simple way to interactively control values\n",
    "# with a callback function\n",
    "from ipywidgets import interact, IntSlider\n",
    "\n",
    "# set a new time-step\n",
    "def time_slider(t):\n",
    "    GetActiveView().ViewTime = t\n",
    "    \n",
    "i = interact(time_slider, t=IntSlider(min=0, max=nb_of_timesteps-1, step=1, value=0))"
   ]
  },
  {
   "cell_type": "code",
   "execution_count": null,
   "metadata": {},
   "outputs": [],
   "source": [
    "def SaveImage(filename):\n",
    "  from vtk import vtkPNGWriter\n",
    "  img_writer = vtkPNGWriter()\n",
    "  img_writer.SetInputConnection(pvdisp.w2i.GetOutputPort())\n",
    "  img_writer.SetFileName(filename)\n",
    "  img_writer.Write()"
   ]
  },
  {
   "cell_type": "code",
   "execution_count": null,
   "metadata": {},
   "outputs": [],
   "source": [
    "bounds =(-4.14, 6.56, -4.60, 8.02, -0.63, 10.35)\n",
    "ResetCamera()"
   ]
  },
  {
   "cell_type": "code",
   "execution_count": null,
   "metadata": {},
   "outputs": [],
   "source": [
    "# Add three planes around the molecule\n",
    "# add P percent of each dimensions. P > 0\n",
    "P = 0.3\n",
    "xoffset = (bounds[1]-bounds[0])*P\n",
    "yoffset = (bounds[3]-bounds[2])*P\n",
    "zoffset = (bounds[5]-bounds[4])*P\n",
    "\n",
    "pxy = Plane(registrationName='Plane-XY')\n",
    "pxy.Origin = [bounds[0]-xoffset, bounds[2]-yoffset, bounds[4]-zoffset]\n",
    "pxy.Point1 = [bounds[1]+xoffset, bounds[2]-yoffset, bounds[4]-zoffset]\n",
    "pxy.Point2 = [bounds[0]-xoffset, bounds[3]+yoffset, bounds[4]-zoffset]\n",
    "r1=Show(pxy)\n",
    "\n",
    "pyz = Plane(registrationName='Plane-YZ')\n",
    "pyz.Origin = pxy.Origin\n",
    "pyz.Point1 = [bounds[0]-xoffset, bounds[3]+yoffset, bounds[4]-zoffset]\n",
    "pyz.Point2 = [bounds[0]-xoffset, bounds[2]-yoffset, bounds[5]+zoffset]\n",
    "r2=Show(pyz)\n",
    "\n",
    "pxz = Plane(registrationName='Plane-XZ')\n",
    "pxz.Origin = pxy.Origin\n",
    "pxz.Point1 = [bounds[1]+xoffset, bounds[2]-yoffset, bounds[4]-zoffset]\n",
    "pxz.Point2 = [bounds[0]-xoffset, bounds[2]-yoffset, bounds[5]+zoffset]\n",
    "r3=Show(pxz)"
   ]
  },
  {
   "cell_type": "code",
   "execution_count": null,
   "metadata": {},
   "outputs": [],
   "source": [
    "renderView1.EnableRayTracing = 1\n",
    "renderView1.Denoise = 1\n",
    "renderView1.BackEnd = 'OSPRay raycaster'\n",
    "renderView1.ProgressivePasses=10\n",
    "renderView1.Shadows = 1"
   ]
  },
  {
   "cell_type": "code",
   "execution_count": null,
   "metadata": {},
   "outputs": [],
   "source": [
    "# Image generation below, using frequency=1, takes 2-3 minutes. You may speed that up by changing frequency to 10 for a quick test"
   ]
  },
  {
   "cell_type": "code",
   "execution_count": null,
   "metadata": {},
   "outputs": [],
   "source": [
    "renderView1.ProgressivePasses=0\n",
    "renderView1.SamplesPerPixel=3\n",
    "# save all images to disk and encode into a movie\n",
    "frequency=10\n",
    "for i, ti in enumerate(range(0,len(molecule1.TimestepValues), frequency)):\n",
    "    renderView1.ViewTime = ti\n",
    "    SaveImage(format(\"/dev/shm/molecule_%06d.png\" % i))"
   ]
  },
  {
   "cell_type": "code",
   "execution_count": null,
   "metadata": {},
   "outputs": [],
   "source": [
    "# use a good quality value, here we use 9\n",
    "!ffmpeg -i /dev/shm/molecule_%06d.png -c:v libtheora -q:v 9 /dev/shm/molecule.ogv"
   ]
  },
  {
   "cell_type": "code",
   "execution_count": null,
   "metadata": {},
   "outputs": [],
   "source": [
    "from ipywidgets import Video\n",
    "\n",
    "video = Video.from_file(\"/dev/shm/molecule.ogv\")\n",
    "video"
   ]
  },
  {
   "cell_type": "code",
   "execution_count": null,
   "metadata": {},
   "outputs": [],
   "source": [
    "!ffmpeg -i /dev/shm/molecule_%06d.png -c:v libx265 /dev/shm/movie-file.mp4"
   ]
  }
 ],
 "metadata": {
  "kernelspec": {
   "display_name": "myenv-kernel",
   "language": "python",
   "name": "myenv-kernel"
  },
  "language_info": {
   "codemirror_mode": {
    "name": "ipython",
    "version": 3
   },
   "file_extension": ".py",
   "mimetype": "text/x-python",
   "name": "python",
   "nbconvert_exporter": "python",
   "pygments_lexer": "ipython3",
   "version": "3.9.4"
  }
 },
 "nbformat": 4,
 "nbformat_minor": 4
}
