{
 "cells": [
  {
   "cell_type": "markdown",
   "metadata": {},
   "source": [
    "# Importing data from xarray\n",
    "\n",
    "Written by Jean M Favre, Swiss National Supercomputing Center, to demonstrate the use of the\n",
    "vtkGridConstructors to import xarray arrays and make a spherical shell\n",
    "\n",
    "The data is the first step of a time-series provided by https://scivis2021.netlify.app/\n",
    "\n",
    "Tested on Piz Daint Tue Aug 23 09:28:09 CEST 2022"
   ]
  },
  {
   "cell_type": "code",
   "execution_count": null,
   "metadata": {},
   "outputs": [],
   "source": [
    "from paraview.simple import *\n",
    "import numpy as np\n",
    "import sys\n",
    "\n",
    "# to turn off some annoying warnings\n",
    "from vtkmodules.vtkCommonCore import vtkLogger\n",
    "vtkLogger.SetStderrVerbosity(vtkLogger.VERBOSITY_OFF)\n",
    "\n",
    "sys.path.append(\"/users/jfavre/Projects/ParaView/Python\")\n",
    "from vtkGridConstructors import vtkStructuredGridFromArrays\n",
    "from vtk.numpy_interface import algorithms as algs"
   ]
  },
  {
   "cell_type": "code",
   "execution_count": null,
   "metadata": {},
   "outputs": [],
   "source": [
    "view = GetRenderView()\n",
    "from ipyparaview.widgets import PVDisplay\n",
    "disp = PVDisplay(view)\n",
    "w = display(disp)"
   ]
  },
  {
   "cell_type": "code",
   "execution_count": null,
   "metadata": {},
   "outputs": [],
   "source": [
    "import xarray as xr\n",
    "data = xr.open_dataset('/scratch/snx3000/jfavre/SciVis2021/spherical001.nc')\n",
    "print(data)\n",
    "\n",
    "P = (90. - data.lat.values) * np.pi / 180.\n",
    "R = data.r.values\n",
    "T = data.lon.values * 2 * np.pi / 360.\n",
    "\n",
    "p, r, t = np.meshgrid(P, R, T, indexing=\"ij\")\n",
    "X = r * np.cos(t) * np.sin(p)\n",
    "Y = r * np.sin(t) * np.sin(p)\n",
    "Z = r * np.cos(p)\n",
    "\n",
    "SphericalGrid = vtkStructuredGridFromArrays()\n",
    "\n",
    "SphericalGrid.SetCoordinates(X, Y, Z)\n",
    "\n",
    "#add scalar variables\n",
    "scalar_vars=[\"temperature\",\n",
    "             \"temperature anomaly\",\n",
    "             \"thermal conductivity\",\n",
    "             \"thermal expansivity\",\n",
    "             \"spin transition-induced density anomaly\"]\n",
    "\n",
    "for var in scalar_vars:\n",
    "  SphericalGrid.AddArray(data.data_vars[var].values.ravel(), var)\n",
    "\n",
    "# Add velocity (rescaled) as a vector\n",
    "SphericalGrid.AddArray(1.0e9*algs.make_vector(data.vx.values.ravel(),\n",
    "                                              data.vy.values.ravel(),\n",
    "                                              data.vz.values.ravel()), \"velocity\")\n",
    "\n",
    "\n",
    "print(\"StructuredGrid mesh dimensions = \", SphericalGrid.GetDimensions())\n",
    "print(\"StructuredGrid mesh bounds = \", SphericalGrid.GetOutput().GetBounds())\n",
    "\n",
    "pVTrivialProducer2 = PVTrivialProducer()\n",
    "obj = pVTrivialProducer2.GetClientSideObject()\n",
    "obj.SetOutput(SphericalGrid.GetOutput())\n",
    "pVTrivialProducer2.UpdatePipeline()\n",
    "\n",
    "rep2 = Show(pVTrivialProducer2)\n",
    "rep2.Representation = 'Surface With Edges'"
   ]
  },
  {
   "cell_type": "code",
   "execution_count": null,
   "metadata": {},
   "outputs": [],
   "source": [
    "ColorBy(rep2, \"temperature\")"
   ]
  },
  {
   "cell_type": "code",
   "execution_count": null,
   "metadata": {},
   "outputs": [],
   "source": [
    "ResetCamera()\n",
    "GetActiveCamera().Dolly(2)"
   ]
  },
  {
   "cell_type": "code",
   "execution_count": null,
   "metadata": {},
   "outputs": [],
   "source": [
    "rep2.Representation=\"Surface\""
   ]
  },
  {
   "cell_type": "code",
   "execution_count": null,
   "metadata": {},
   "outputs": [],
   "source": [
    "Hide(pVTrivialProducer2)"
   ]
  },
  {
   "cell_type": "code",
   "execution_count": null,
   "metadata": {},
   "outputs": [],
   "source": [
    "extractSubset1 = ExtractSubset(Input=pVTrivialProducer2)\n",
    "extractSubset1.VOI = [0, 270, 0, 200, 0, 179]\n",
    "# only look at 270 degrees of longitude\n",
    "\n",
    "rep3 = Show(extractSubset1)\n",
    "rep3.Representation='Surface'\n",
    "ColorBy(rep3, \"temperature\")\n"
   ]
  }
 ],
 "metadata": {
  "kernelspec": {
   "display_name": "myenv-kernel",
   "language": "python",
   "name": "myenv-kernel"
  },
  "language_info": {
   "codemirror_mode": {
    "name": "ipython",
    "version": 3
   },
   "file_extension": ".py",
   "mimetype": "text/x-python",
   "name": "python",
   "nbconvert_exporter": "python",
   "pygments_lexer": "ipython3",
   "version": "3.9.4"
  }
 },
 "nbformat": 4,
 "nbformat_minor": 4
}
