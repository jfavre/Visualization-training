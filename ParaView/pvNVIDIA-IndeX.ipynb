{
 "cells": [
  {
   "cell_type": "markdown",
   "metadata": {},
   "source": [
    "# ParaView Volume Rendering with NVIDIA IndeX"
   ]
  },
  {
   "cell_type": "markdown",
   "metadata": {},
   "source": [
    "https://developer.nvidia.com/nvidia-index"
   ]
  },
  {
   "cell_type": "code",
   "execution_count": null,
   "metadata": {},
   "outputs": [],
   "source": [
    "from paraview.simple import *\n",
    "from paraview.modules.vtkRemotingCore import vtkProcessModule\n",
    "LoadPlugin(\"/apps/daint/UES/jenkins/7.0.UP02-20.11/gpu/easybuild/software/ParaView/5.9.0-CrayGNU-20.11-EGL-python3/lib64/paraview-5.9/plugins/pvNVIDIAIndeX/pvNVIDIAIndeX.so\", ns=globals())"
   ]
  },
  {
   "cell_type": "code",
   "execution_count": null,
   "metadata": {},
   "outputs": [],
   "source": [
    "gs = GetSettingsProxy(\"RenderViewSettings\")\n",
    "gs.SetPropertyWithName(\"DisableIceT\", 1)\n",
    "\n",
    "info = GetOpenGLInformation(location=servermanager.vtkSMSession.RENDER_SERVER)"
   ]
  },
  {
   "cell_type": "code",
   "execution_count": null,
   "metadata": {},
   "outputs": [],
   "source": [
    "Version = str(GetParaViewVersion())\n",
    "\n",
    "print(\"ParaView Version \", Version)\n",
    "print(\"Vendor:   %s\" % info.GetVendor())\n",
    "print(\"Version:  %s\" % info.GetVersion())\n",
    "print(\"Renderer: %s\" % info.GetRenderer())\n",
    "\n",
    "# NVIDIA IndeX Volume renderingis only available with NVIDIA hardware\n",
    "assert info.GetVendor().split()[0] == 'NVIDIA'"
   ]
  },
  {
   "cell_type": "code",
   "execution_count": null,
   "metadata": {},
   "outputs": [],
   "source": [
    "reader = ImageReader(FileNames=['/scratch/snx3000/jfavre/NVIDIA/50.density-log_1024x1024x2048_float.raw'])\n",
    "reader.DataScalarType = 'float'\n",
    "reader.DataByteOrder = 'LittleEndian'\n",
    "reader.DataExtent = [0, 2047, 0, 1023, 0, 1023]"
   ]
  },
  {
   "cell_type": "code",
   "execution_count": null,
   "metadata": {},
   "outputs": [],
   "source": [
    "renderView = CreateRenderView()\n",
    "renderView.ViewSize = [600,600]\n",
    "rep = Show(reader, GetActiveView())\n",
    "rep.Representation = 'Outline'\n",
    "rep.ColorArrayName = ['POINTS', 'ImageFile']\n",
    "\n",
    "ImageFileLUT = GetColorTransferFunction('ImageFile')\n",
    "ImageFileLUT.RGBPoints = [1.206409215927124, 0.231373, 0.298039, 0.752941, 5.729784369468689, 0.865003, 0.865003, 0.865003, 10.253159523010254, 0.705882, 0.0156863,\n",
    " 0.14902]\n",
    "ImageFileLUT.ScalarRangeInitialized = 1.0\n",
    "\n",
    "# get opacity transfer function/opacity map for 'MetaImage'\n",
    "ImageFilePWF = GetOpacityTransferFunction('ImageFile')\n",
    "ImageFilePWF.Points = [1.206409215927124, 0.0, 0.5, 0.0, 10.253159523010254, 1.0, 0.5, 0.0]\n",
    "ImageFilePWF.ScalarRangeInitialized = 1\n",
    "\n",
    "# Here I recommend to wait until the cell has really finished to run.\n",
    "# recall that we are running in parallel on the node and some extra sync does not hurt."
   ]
  },
  {
   "cell_type": "code",
   "execution_count": null,
   "metadata": {},
   "outputs": [],
   "source": [
    "from ipyparaview.widgets import PVDisplay\n",
    "pvdisp = PVDisplay(GetActiveView())\n",
    "w = display(pvdisp)"
   ]
  },
  {
   "cell_type": "code",
   "execution_count": null,
   "metadata": {},
   "outputs": [],
   "source": [
    "def SaveImage(filename):\n",
    "  from vtk import vtkPNGWriter\n",
    "  img_writer = vtkPNGWriter()\n",
    "  img_writer.SetInputConnection(pvdisp.w2i.GetOutputPort())\n",
    "  img_writer.SetFileName(filename)\n",
    "  img_writer.Write()\n",
    "\n",
    "# save animage on the client-side\n",
    "#SaveImage(\"/users/jfavre/foo2.png\")"
   ]
  },
  {
   "cell_type": "code",
   "execution_count": null,
   "metadata": {},
   "outputs": [],
   "source": [
    "rep.Representation = 'Volume'\n",
    "rep.LookupTable = ImageFileLUT\n",
    "rep.OpacityArray = ['POINTS', 'ImageFile']\n",
    "rep.OpacityTransferFunction = 'PiecewiseFunction'\n",
    "rep.ScalarOpacityUnitDistance = 4\n",
    "rep.ScalarOpacityFunction = ImageFilePWF"
   ]
  },
  {
   "cell_type": "code",
   "execution_count": null,
   "metadata": {},
   "outputs": [],
   "source": [
    "# get a list of available Representation modes\n",
    "rep.Representation.Available"
   ]
  },
  {
   "cell_type": "code",
   "execution_count": null,
   "metadata": {},
   "outputs": [],
   "source": [
    "rep.Representation = 'NVIDIA IndeX'"
   ]
  },
  {
   "cell_type": "code",
   "execution_count": null,
   "metadata": {},
   "outputs": [],
   "source": [
    "ImageFileLUT = GetColorTransferFunction('ImageFile')\n",
    "ImageFileLUT.RGBPoints = [1.206409215927124, 0.870485, 0.913768, 0.832905, 2.348207448379993, 0.31583, 0.776442, 0.867858, 3.552619695663452, 0.117909, 0.484134, 0.713825, 4.496826171875, 0.0, 0.209874, 0.511832, 5.297971248626709, 0.0157519, 0.00332021, 4.55569e-08, 6.814424514770508, 0.520865, 0.0, 0.0, 8.057207709363222, 0.785109, 0.339479, 0.000797922, 9.199010491175532, 0.910974, 0.699774, 0.0, 10.305128097534178, 0.881371, 0.912178, 0.818099]\n",
    "ImageFileLUT.ColorSpace = 'Lab'\n",
    "ImageFileLUT.ScalarRangeInitialized = 1.0\n",
    "\n",
    "# get opacity transfer function/opacity map for 'ImageFile'\n",
    "ImageFilePWF = GetOpacityTransferFunction('ImageFile')\n",
    "ImageFilePWF.Points = [1.206409215927124, 0.30882352590560913, 0.5, 0.0, 2.293677568435669, 0.05147058889269829, 0.5, 0.0, 3.037597894668579, 0.029411764815449715, 0.5, 0.0, 3.4381704330444336, 0.0, 0.5, 0.0, 3.838742971420288, 0.0, 0.5, 0.0, 4.267927646636963, 0.0, 0.5, 0.0, 4.782949447631836, 0.07352941483259201, 0.5, 0.0, 5.069072723388672, 0.3014705777168274, 0.5, 0.0, 5.669931411743164, 0.5955882668495178, 0.5, 0.0, 7.014710903167725, 0.8161764740943909, 0.5, 0.0, 8.531164169311523, 0.9338235259056091, 0.5, 0.0, 10.305128097534178, 1.0, 0.5, 0.0]\n",
    "ImageFilePWF.ScalarRangeInitialized = 1\n",
    "\n",
    "rep.Filter = 'Gradient'\n",
    "rep.gradient_scale = 120.0\n",
    "rep.ScalarOpacityUnitDistance = 46."
   ]
  },
  {
   "cell_type": "code",
   "execution_count": null,
   "metadata": {},
   "outputs": [],
   "source": []
  }
 ],
 "metadata": {
  "kernelspec": {
   "display_name": "Python 3",
   "language": "python",
   "name": "python3"
  },
  "language_info": {
   "codemirror_mode": {
    "name": "ipython",
    "version": 3
   },
   "file_extension": ".py",
   "mimetype": "text/x-python",
   "name": "python",
   "nbconvert_exporter": "python",
   "pygments_lexer": "ipython3",
   "version": "3.8.5"
  }
 },
 "nbformat": 4,
 "nbformat_minor": 4
}
