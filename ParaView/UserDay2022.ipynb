{
 "cells": [
  {
   "cell_type": "markdown",
   "id": "1ed577ff",
   "metadata": {},
   "source": [
    "# # ParaView and Jupyter at CSCS. 2022 User Day in Bern (02-09-2022)"
   ]
  },
  {
   "cell_type": "markdown",
   "id": "84bf6993",
   "metadata": {},
   "source": [
    "Where do I find these notes and the examples?\n",
    "\n",
    "* git clone https://github.com/jfavre/Visualization-training\n",
    "\n",
    "* goto directory \"ParaView\""
   ]
  },
  {
   "cell_type": "markdown",
   "id": "02ca4e41",
   "metadata": {},
   "source": [
    "Motivations:\n",
    "* Demonstrate that ParaView Python code can be run on a jupyter notebook\n",
    "* A lightweight replacement to a dekstop ParaView client with many features:\n",
    "  * Data processing/Analysis/Filtering *without graphics*\n",
    "  * All of the above with an interactive 3D rendering window\n",
    "  * Can use all CPU threads for accelerated algorithms\n",
    "  * Can use MPI on-the-node,or on neighboring nodes\n",
    "  * Can use plugins, such as the NVIDIA IndeX plugin for advanced volume rendering\n",
    "  * Can import numpy arrays into ParaView (grid) objects"
   ]
  },
  {
   "cell_type": "markdown",
   "id": "d39a44cd",
   "metadata": {},
   "source": [
    "How to:\n",
    "\n",
    "* install ipyparaview https://github.com/NVIDIA/ipyparaview\n",
    "* create a Python virtual env as per our documentation https://user.cscs.ch/tools/interactive/python/#python-virtual-environments\n",
    "* Use a classic notebook https://user.cscs.ch/tools/interactive/jupyterlab/#introduction"
   ]
  },
  {
   "cell_type": "markdown",
   "id": "d588843b",
   "metadata": {},
   "source": [
    "Load the ParaView module and other stuff:\n",
    "\n",
    "* edit $HOME/.local/share/jupyter/kernels/myenv-kernel/launcher"
   ]
  },
  {
   "cell_type": "raw",
   "id": "d87f1b06",
   "metadata": {},
   "source": [
    "#!/usr/bin/env bash\n",
    "\n",
    "export PYTHONPATH=''\n",
    "if [ \"$SOURCE_JUPYTERHUBENV\" == true ]; then\n",
    "    source $HOME/.jupyterhub.env\n",
    "fi\n",
    "\n",
    "export PMI_NO_FORK=1\n",
    "export PMI_NO_PREINITIALIZE=1\n",
    "export PMI_MMAP_SYNC_WAIT_TIME=300\n",
    "\n",
    "module load FFmpeg/5.0-CrayGNU-21.09\n",
    "module load ParaView/5.10.1-CrayGNU-21.09-EGL\n",
    "module load matplotlib\n",
    "\n",
    "source /users/jfavre/myvenv/bin/activate\n",
    "/users/jfavre/myvenv/bin/python -m ipykernel_launcher $@"
   ]
  },
  {
   "cell_type": "markdown",
   "id": "4aee38af",
   "metadata": {},
   "source": [
    "Demonstrators:\n",
    "* Hello_Sphere-ParaView.0.ipynb\n",
    "* Hello_Sphere-ParaView.1.ipynb\n",
    "* Hello_Sphere-ParaView.2.ipynb\n",
    "* Hello_Molecule.ipynb\n",
    "\n",
    "* XArrays-ParaView-Import.ipynb\n",
    "\n",
    "* pvNVIDIA-IndeX.ipynb\n",
    "\n",
    "* ParaView-SMP-Contours.ipynb"
   ]
  },
  {
   "cell_type": "markdown",
   "id": "f020c7a1",
   "metadata": {},
   "source": [
    "Questions? visit support.cscs.ch"
   ]
  },
  {
   "cell_type": "code",
   "execution_count": null,
   "id": "70eb837e",
   "metadata": {},
   "outputs": [],
   "source": []
  }
 ],
 "metadata": {
  "kernelspec": {
   "display_name": "CSCS Python",
   "language": "python",
   "name": "cscs"
  },
  "language_info": {
   "codemirror_mode": {
    "name": "ipython",
    "version": 3
   },
   "file_extension": ".py",
   "mimetype": "text/x-python",
   "name": "python",
   "nbconvert_exporter": "python",
   "pygments_lexer": "ipython3",
   "version": "3.9.4"
  }
 },
 "nbformat": 4,
 "nbformat_minor": 5
}
