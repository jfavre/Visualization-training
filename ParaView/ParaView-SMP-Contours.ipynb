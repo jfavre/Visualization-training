{
 "cells": [
  {
   "cell_type": "markdown",
   "metadata": {},
   "source": [
    "# SMP Parallelism. A highly scalable (i.e., parallelizable) isosurface contour filter for large data.\n"
   ]
  },
  {
   "cell_type": "markdown",
   "metadata": {},
   "source": [
    "## Tested ParaView 5.10 Wed Mar 23 15:55:39 CET 2022"
   ]
  },
  {
   "cell_type": "code",
   "execution_count": null,
   "metadata": {},
   "outputs": [],
   "source": [
    "from paraview.simple import *\n",
    "from paraview.modules.vtkRemotingCore import vtkProcessModule\n",
    "# Tested eiger Thu Feb 17 09:20:06 CET 2022\n",
    "# Tested daint Thu Mar 10 08:51:11 CET 2022"
   ]
  },
  {
   "cell_type": "code",
   "execution_count": null,
   "metadata": {},
   "outputs": [],
   "source": [
    "view = GetRenderView()\n",
    "view.ViewSize=[512,512]"
   ]
  },
  {
   "cell_type": "code",
   "execution_count": null,
   "metadata": {},
   "outputs": [],
   "source": [
    "reader = ImageReader(FileNames=['/scratch/snx3000/jfavre/50.density-log_1024x1024x2048_float.raw'])\n",
    "reader.DataScalarType = 'float'\n",
    "reader.DataByteOrder = 'LittleEndian'\n",
    "reader.DataExtent = [0, 2047, 0, 1023, 0, 1023]\n",
    "# we force the reading of the data to factor out the I/O time\n",
    "reader.UpdatePipeline()\n",
    "\n",
    "Outline = Show(reader, view)\n",
    "Outline.Representation = 'Outline'\n",
    "Outline.ColorArrayName = ['POINTS', '']"
   ]
  },
  {
   "cell_type": "code",
   "execution_count": null,
   "metadata": {},
   "outputs": [],
   "source": [
    "%%time\n",
    "contour1 = Contour(registrationName='Contour1', Input=reader)\n",
    "contour1.ContourBy = ['POINTS', 'ImageFile']\n",
    "contour1.Isosurfaces = [5.75]\n",
    "contour1.PointMergeMethod = 'Uniform Binning'\n",
    "contour1.UpdatePipeline()"
   ]
  },
  {
   "cell_type": "code",
   "execution_count": null,
   "metadata": {},
   "outputs": [],
   "source": [
    "from ipyparaview.widgets import PVDisplay\n",
    "pvdisp = PVDisplay(view)\n",
    "w = display(pvdisp)\n",
    "\n",
    "def SaveImage(filename):\n",
    "  from vtk import vtkPNGWriter\n",
    "  img_writer = vtkPNGWriter()\n",
    "  img_writer.SetInputConnection(pvdisp.w2i.GetOutputPort())\n",
    "  img_writer.SetFileName(filename)\n",
    "  img_writer.Write()\n",
    "\n",
    "# save animage on the client-side\n",
    "#SaveImage(\"/dev/shm/foo2.png\")"
   ]
  },
  {
   "cell_type": "code",
   "execution_count": null,
   "metadata": {},
   "outputs": [],
   "source": [
    "contour1Display = Show(contour1, view)\n",
    "\n",
    "contour1Display.Representation = 'Surface'\n",
    "contour1Display.ColorArrayName = ['POINTS', '']"
   ]
  },
  {
   "cell_type": "code",
   "execution_count": null,
   "metadata": {},
   "outputs": [],
   "source": [
    "Hide(contour1)"
   ]
  },
  {
   "cell_type": "code",
   "execution_count": null,
   "metadata": {},
   "outputs": [],
   "source": [
    "#LoadPlugin(\"/apps/daint/UES/jenkins/7.0.UP02-20.11/gpu/easybuild/software/ParaView/5.9.0-CrayGNU-20.11-EGL-python3/lib64/paraview-5.9/plugins/AcceleratedAlgorithms/AcceleratedAlgorithms.so\", ns=globals())\n",
    "fname = \"/apps/pilatus/UES/jenkins/1.4.0/software/ParaView/5.10.0-cpeCray-21.12-OSMesa/lib64/paraview-5.10/plugins/AcceleratedAlgorithms/AcceleratedAlgorithms.so\"\n",
    "fname = \"/apps/daint/UES/jenkins/7.0.UP03/21.09/daint-gpu/software/ParaView/5.10.0-CrayGNU-21.09-EGL/lib/paraview-5.10/plugins/AcceleratedAlgorithms/AcceleratedAlgorithms.so\"\n",
    "LoadPlugin(fname, ns=globals())"
   ]
  },
  {
   "cell_type": "markdown",
   "metadata": {},
   "source": [
    "Will now use a fully multi-threaded filter\n",
    "\n",
    "https://vtk.org/doc/nightly/html/classvtkFlyingEdges3D.html#details\n",
    "\n",
    "This class has been threaded with vtkSMPTools. Using TBB or other non-sequential type may improve performance significantly."
   ]
  },
  {
   "cell_type": "code",
   "execution_count": null,
   "metadata": {},
   "outputs": [],
   "source": [
    "%%time\n",
    "flyingEdges3D1 = FlyingEdges3D(registrationName='FlyingEdges3D1', Input=reader)\n",
    "flyingEdges3D1.ContourBy = ['POINTS', 'ImageFile']\n",
    "flyingEdges3D1.Isosurfaces = [5.75]"
   ]
  },
  {
   "cell_type": "code",
   "execution_count": null,
   "metadata": {},
   "outputs": [],
   "source": [
    "contour2Display = Show(flyingEdges3D1, view)\n",
    "\n",
    "contour2Display.Representation = 'Surface'\n",
    "contour2Display.ColorArrayName = ['POINTS', '']"
   ]
  },
  {
   "cell_type": "code",
   "execution_count": null,
   "metadata": {},
   "outputs": [],
   "source": [
    "SaveImage(\"/dev/shm/foo2.png\")"
   ]
  },
  {
   "cell_type": "code",
   "execution_count": null,
   "metadata": {},
   "outputs": [],
   "source": []
  }
 ],
 "metadata": {
  "kernelspec": {
   "display_name": "Python 3 (ipykernel)",
   "language": "python",
   "name": "python3"
  },
  "language_info": {
   "codemirror_mode": {
    "name": "ipython",
    "version": 3
   },
   "file_extension": ".py",
   "mimetype": "text/x-python",
   "name": "python",
   "nbconvert_exporter": "python",
   "pygments_lexer": "ipython3",
   "version": "3.9.4"
  }
 },
 "nbformat": 4,
 "nbformat_minor": 4
}
