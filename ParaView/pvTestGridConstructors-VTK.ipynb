{
 "cells": [
  {
   "cell_type": "code",
   "execution_count": 1,
   "metadata": {},
   "outputs": [],
   "source": [
    "from itkwidgets import view\n",
    "import numpy as np\n",
    "import sys\n",
    "sys.path.append(\"/users/jfavre/Projects/ParaView/Python\")\n",
    "from vtkGridConstructors import *\n",
    "\n",
    "# Tested Thu May 13 19:10:18 CEST 2021"
   ]
  },
  {
   "cell_type": "markdown",
   "metadata": {},
   "source": [
    "# Create a Spherical Grid"
   ]
  },
  {
   "cell_type": "code",
   "execution_count": 2,
   "metadata": {},
   "outputs": [],
   "source": [
    "dims = [5, 9, 7] # radius, theta(east-west longitude), phi(north-south latitude)\n",
    "\n",
    "Raxis = np.linspace(1., 2., dims[0])\n",
    "\n",
    "# only use 3/4 of the full longitude in order to view the inside of the sphere\n",
    "Thetaaxis = np.linspace(0.,np.pi*1.5, dims[1])\n",
    "\n",
    "Phiaxis = np.linspace(0.,np.pi*1.0, dims[2])\n",
    "\n",
    "p, t, r = np.meshgrid(Phiaxis, Thetaaxis, Raxis, indexing=\"ij\")\n",
    "X = r * np.cos(t) * np.sin(p)\n",
    "Y = r * np.sin(t) * np.sin(p)\n",
    "Z = r * np.cos(p)\n",
    "\n",
    "G = vtkStructuredGridFromArrays()\n",
    "\n",
    "G.SetCoordinates(X, Y, Z)\n",
    "G.AddArray(r.ravel(), \"radius\")\n",
    "G.AddArray(t.ravel(), \"theta\")\n",
    "G.AddArray(p.ravel(), \"phi\")\n",
    "# reduce dimension of array by 1 in all directions\n",
    "G.AddCellArray(p[1:,1:,1:].ravel(), \"phi\")\n",
    "\n",
    "V = algs.make_vector(X.ravel(),\n",
    "                   Y.ravel(),\n",
    "                   Z.ravel())\n",
    "                   \n",
    "# V is a 2D array of shape(np.prod(global_dims), 3)\n",
    "G.AddArray(V, \"Velocity\")\n",
    "\n",
    "# reduce dimension of array by 1 in all directions, except the last to keep velocity a 3-tuple\n",
    "Vcell = V.reshape(dims[2],dims[1],dims[0],3)[1:,1:,1:,:].reshape((dims[0]-1)*(dims[1]-1)*(dims[2]-1), 3)\n",
    "G.AddCellArray(Vcell, \"Velocity\")"
   ]
  },
  {
   "cell_type": "code",
   "execution_count": 3,
   "metadata": {},
   "outputs": [],
   "source": [
    "# generate an outline bounding box for the mesh\n",
    "geom = vtk.vtkGeometryFilter()\n",
    "geom.SetInputData(G.GetOutput())\n",
    "                        \n",
    "features = vtk.vtkFeatureEdges()\n",
    "features.SetInputConnection(geom.GetOutputPort())\n",
    "features.BoundaryEdgesOn()\n",
    "features.FeatureEdgesOn()\n",
    "features.Update()\n",
    "edges = features.GetOutput()"
   ]
  },
  {
   "cell_type": "code",
   "execution_count": 4,
   "metadata": {},
   "outputs": [
    {
     "data": {
      "application/vnd.jupyter.widget-view+json": {
       "model_id": "17c93bee6f2f4174a9dfbbab760d8164",
       "version_major": 2,
       "version_minor": 0
      },
      "text/plain": [
       "Viewer(geometries=[{'vtkClass': 'vtkPolyData', 'points': {'vtkClass': 'vtkPoints', 'name': '_points', 'numberO…"
      ]
     },
     "metadata": {},
     "output_type": "display_data"
    }
   ],
   "source": [
    "v0 = view(geometries=[G.GetOutput(), edges])\n",
    "v0"
   ]
  },
  {
   "cell_type": "markdown",
   "metadata": {},
   "source": [
    "# A cartesian grid, a.k.a. vtkImageData"
   ]
  },
  {
   "cell_type": "code",
   "execution_count": 5,
   "metadata": {},
   "outputs": [
    {
     "name": "stdout",
     "output_type": "stream",
     "text": [
      "mesh dimensions =  (64, 64, 64)\n",
      "data scalar range =  (0.07558578987150362, 300.0)\n"
     ]
    }
   ],
   "source": [
    "dims = [64,64,64]\n",
    "bounds = (-10.0, 10.0, -10.0, 10.0,-10.0, 10.0)\n",
    "xaxis = np.linspace(bounds[0], bounds[1], dims[0])\n",
    "yaxis = np.linspace(bounds[2], bounds[3], dims[1])\n",
    "zaxis = np.linspace(bounds[4], bounds[5], dims[2])\n",
    "[xc,yc,zc] = np.meshgrid(zaxis,yaxis,xaxis, indexing=\"ij\")\n",
    "data = xc**2 + yc**2 + zc**2\n",
    "\n",
    "from vtk.util.vtkImageImportFromArray import vtkImageImportFromArray\n",
    "iD = vtkImageImportFromArray()\n",
    "iD.SetArray(data) # it is given the name \"scalars\" by default\n",
    "iD.SetDataOrigin((bounds[0], bounds[2], bounds[4]))\n",
    "iD.SetDataSpacing(((bounds[1]-bounds[0])/(dims[0]-1),\n",
    "                   (bounds[3]-bounds[2])/(dims[0]-1),\n",
    "                   (bounds[5]-bounds[4])/(dims[0]-1)))\n",
    "iD.Update()\n",
    "iD.GetOutput().GetPointData().SetActiveScalars(\"scalars\")\n",
    "\n",
    "print(\"mesh dimensions = \", iD.GetOutput().GetDimensions())\n",
    "assert iD.GetOutput().GetPointData().GetArray(0).GetName() == 'scalars'\n",
    "datarange = iD.GetOutput().GetPointData().GetArray(0).GetRange()\n",
    "print(\"data scalar range = \", datarange)\n",
    "\n",
    "# generate an outline bounding box for the mesh\n",
    "geom = vtk.vtkGeometryFilter()\n",
    "geom.SetInputData(iD.GetOutput())\n",
    "                        \n",
    "features = vtk.vtkFeatureEdges()\n",
    "features.SetInputConnection(geom.GetOutputPort())\n",
    "features.BoundaryEdgesOn()\n",
    "features.FeatureEdgesOn()\n",
    "features.Update()\n",
    "edges = features.GetOutput()"
   ]
  },
  {
   "cell_type": "code",
   "execution_count": 6,
   "metadata": {},
   "outputs": [
    {
     "data": {
      "application/vnd.jupyter.widget-view+json": {
       "model_id": "0cbe81079f554e06b56931f0e5cbf5dc",
       "version_major": 2,
       "version_minor": 0
      },
      "text/plain": [
       "Viewer(geometries=[{'vtkClass': 'vtkPolyData', 'points': {'vtkClass': 'vtkPoints', 'name': '_points', 'numberO…"
      ]
     },
     "metadata": {},
     "output_type": "display_data"
    }
   ],
   "source": [
    "#view(geometries=[iD.GetOutput(), edges])\n",
    "v1 = view(image=iD.GetOutput(), geometries=[edges])\n",
    "v1"
   ]
  },
  {
   "cell_type": "markdown",
   "metadata": {},
   "source": [
    "# Create a cylindrical - structured grid"
   ]
  },
  {
   "cell_type": "code",
   "execution_count": null,
   "metadata": {},
   "outputs": [],
   "source": [
    "dims = [13,27,15] # Radius dimension, Theta dimension, Z dimension\n",
    "Raxis = np.linspace(1., 2., dims[0])\n",
    "Thetaaxis = np.linspace(0.,np.pi*1.5, dims[1])\n",
    "Zaxis = np.linspace(0., 2.0, dims[2])\n",
    "Z, t, r = np.meshgrid(Zaxis, Thetaaxis, Raxis, indexing=\"ij\")\n",
    "X = r * np.cos(t)\n",
    "Y = r * np.sin(t)\n",
    "\n",
    "NsG = vtkStructuredGridFromArrays()\n",
    "NsG.SetCoordinates(X, Y, Z)\n",
    "NsG.AddArray(r.ravel(), \"radius\")\n",
    "NsG.AddArray(Z.ravel(), \"z-elevation\")\n",
    "NsG.AddArray(t.ravel(), \"angle\")\n",
    "\n",
    "print(\"StructuredGrid mesh dimensions = \", NsG.GetDimensions())\n",
    "print(\"StructuredGrid mesh bounds = \", NsG.GetOutput().GetBounds())\n",
    "assert NsG.GetOutput().GetPointData().GetArray(1).GetName() == 'z-elevation'\n",
    "datarange = NsG.GetOutput().GetPointData().GetArray(\"z-elevation\").GetRange()\n",
    "print(\"StructuredGrid data scalar range = \", datarange)\n",
    "\n",
    "# generate an outline bounding box for the mesh\n",
    "geom = vtk.vtkGeometryFilter()\n",
    "geom.SetInputData(NsG.GetOutput())\n",
    "                        \n",
    "features = vtk.vtkFeatureEdges()\n",
    "features.SetInputConnection(geom.GetOutputPort())\n",
    "features.BoundaryEdgesOn()\n",
    "features.FeatureEdgesOn()\n",
    "features.Update()\n",
    "edges = features.GetOutput()"
   ]
  },
  {
   "cell_type": "code",
   "execution_count": null,
   "metadata": {},
   "outputs": [],
   "source": [
    "v2 = view(geometries=[NsG.GetOutput(), edges])\n",
    "v2"
   ]
  },
  {
   "cell_type": "markdown",
   "metadata": {},
   "source": [
    "# Create a point cloud"
   ]
  },
  {
   "cell_type": "code",
   "execution_count": null,
   "metadata": {},
   "outputs": [],
   "source": [
    "nbpts = 10000\n",
    "coords = np.random.random_sample((nbpts, 3))\n",
    "\n",
    "PC = vtkPointSetFromArrays()\n",
    "#PC.SetCoordinates(coords[:,0], coords[:,1], coords[:,2])\n",
    "PC.SetVCoordinates(coords)\n",
    "PC.AddArray(coords[:,0]*coords[:,0] + coords[:,1]*coords[:,1] + coords[:,2]*coords[:,2], \"distancesq\")\n",
    "PC.AddArray(coords[:,0], \"x-coords\")\n",
    "\n",
    "print(\"Point Cloud has\", PC.GetOutput().GetNumberOfPoints(), \"vertices\")\n"
   ]
  },
  {
   "cell_type": "code",
   "execution_count": null,
   "metadata": {},
   "outputs": [],
   "source": [
    "v3 = view(point_sets=[PC.GetOutput()])\n",
    "v3"
   ]
  },
  {
   "cell_type": "markdown",
   "metadata": {},
   "source": [
    "# Create a Rectilinear Grid"
   ]
  },
  {
   "cell_type": "code",
   "execution_count": null,
   "metadata": {},
   "outputs": [],
   "source": [
    "dims = [64,64,64] # Radius dimension, Theta dimension, Z dimension\n",
    "xaxis = np.linspace(-.5, 1., dims[0])\n",
    "#xaxis = xaxis**2\n",
    "yaxis = np.linspace(0., 1., dims[1])\n",
    "yaxis = np.sqrt(yaxis)\n",
    "zaxis = np.linspace(0., 1., dims[2])\n",
    "\n",
    "[xc,yc,zc] = np.meshgrid(zaxis,yaxis,xaxis, indexing=\"ij\")\n",
    "data = np.sqrt(xc**2 + yc**2 + zc**2)\n",
    "\n",
    "rG = vtkRectGridFromArrays()\n",
    "rG.SetCoordinates(xaxis, yaxis, zaxis)\n",
    "rG.AddArray(data.ravel(), \"scalars\")\n",
    "\n",
    "print(\"RectilinearGrid dimensions = \", rG.GetDimensions())\n",
    "assert rG.GetOutput().GetPointData().GetArray(0).GetName() == 'scalars'\n",
    "datarange = rG.GetOutput().GetPointData().GetArray(\"scalars\").GetRange()\n",
    "print(\"RectilinearGrid  data scalar range = \", datarange)\n",
    "\n",
    "# generate an outline bounding box for the mesh\n",
    "geom = vtk.vtkGeometryFilter()\n",
    "geom.SetInputData(rG.GetOutput())\n",
    "                        \n",
    "features = vtk.vtkFeatureEdges()\n",
    "features.SetInputConnection(geom.GetOutputPort())\n",
    "features.BoundaryEdgesOn()\n",
    "features.FeatureEdgesOn()\n",
    "features.Update()\n",
    "edges = features.GetOutput()"
   ]
  },
  {
   "cell_type": "code",
   "execution_count": null,
   "metadata": {},
   "outputs": [],
   "source": [
    "v4 = view(geometries=[rG.GetOutput(), edges])\n",
    "v4"
   ]
  },
  {
   "cell_type": "code",
   "execution_count": null,
   "metadata": {},
   "outputs": [],
   "source": []
  }
 ],
 "metadata": {
  "kernelspec": {
   "display_name": "Python 3",
   "language": "python",
   "name": "python3"
  },
  "language_info": {
   "codemirror_mode": {
    "name": "ipython",
    "version": 3
   },
   "file_extension": ".py",
   "mimetype": "text/x-python",
   "name": "python",
   "nbconvert_exporter": "python",
   "pygments_lexer": "ipython3",
   "version": "3.8.5"
  }
 },
 "nbformat": 4,
 "nbformat_minor": 4
}
