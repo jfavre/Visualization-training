{
 "cells": [
  {
   "cell_type": "markdown",
   "metadata": {},
   "source": [
    "# Visualize weather data from https://www.earthsystemgrid.org/dataset/isabeldata.html\n",
    "\n",
    "Written by Jean M Favre, Swiss National Supercomputing Center.\n",
    "Tested on Piz Daint Tue May 11 18:00:49 CEST 2021"
   ]
  },
  {
   "cell_type": "code",
   "execution_count": null,
   "metadata": {},
   "outputs": [],
   "source": [
    "import gzip\n",
    "import numpy as np"
   ]
  },
  {
   "cell_type": "markdown",
   "metadata": {},
   "source": [
    "# Details about file format are here:\n",
    "\n",
    "https://www.earthsystemgrid.org/dataset/isabeldata/file/readme.html\n",
    "\n",
    "http://vis.computer.org/vis2004contest/data.html\n",
    "\n",
    "Data Format\n",
    "\n",
    "A summary of the data can be found below:\n",
    "\n",
    "    Dimensions: 500 x 500 x 100\n",
    "    Physical Scale: 2139km (east-west) x 2004km (north-south) x 19.8km (vertical) Note: The east-west distance of 2139km is measured at the southern latitude; the distance is only 1741km at the northern latitude due to the curvature of the earth.\n",
    "    Physical Location: Longitude (x): 83W to 62W; Latitude (y): 23.7N to 41.7N; Height (z): 0.035km to 19.835km\n",
    "    Format: Brick-of-Floats"
   ]
  },
  {
   "cell_type": "code",
   "execution_count": null,
   "metadata": {},
   "outputs": [],
   "source": [
    "dims = [500,500,100] # original dimensions of binary data in disk file\n",
    "\n",
    "def load_volume(varname, frame_number):\n",
    "  assert frame_number >= 1 and frame_number <= 48\n",
    "  fname_gzipped = format('/scratch/snx3000/jfavre/Isabel/%s%02d.bin.gz' % (varname, frame_number))\n",
    "  print(\"opening \", fname_gzipped)\n",
    "  with gzip.open(fname_gzipped,'rb') as f:\n",
    "    data = np.frombuffer(f.read(), dtype='>f4')\n",
    "    # Land values, where there is no valid atmospheric data, are marked 1.0e35\n",
    "    if varname == 'PRECIPf':\n",
    "      data = np.where(data < 3e35, data, np.NaN)\n",
    "    elif varname == 'CLOUDf':\n",
    "      data = np.where(data < 2e35, data, np.NaN)\n",
    "    else:\n",
    "      data = np.where(data != 1e35, data, np.NaN)\n",
    "  return data.reshape(np.flip(dims))"
   ]
  },
  {
   "cell_type": "markdown",
   "metadata": {},
   "source": [
    "# Reading it with a ParaView programmable Source"
   ]
  },
  {
   "cell_type": "code",
   "execution_count": null,
   "metadata": {},
   "outputs": [],
   "source": [
    "from paraview.simple import *"
   ]
  },
  {
   "cell_type": "code",
   "execution_count": null,
   "metadata": {},
   "outputs": [],
   "source": [
    "view = GetRenderView()\n",
    "from ipyparaview.widgets import PVDisplay\n",
    "pvdisp = PVDisplay(view)\n",
    "w = display(pvdisp)"
   ]
  },
  {
   "cell_type": "code",
   "execution_count": null,
   "metadata": {},
   "outputs": [],
   "source": [
    "RequestData = \"\"\"\n",
    "import numpy as np\n",
    "executive = self.GetExecutive()\n",
    "outInfo = executive.GetOutputInformation(0)\n",
    "exts = [executive.UPDATE_EXTENT().Get(outInfo, i) for i in range(6)]\n",
    "dims = (exts[1]-exts[0]+1, exts[3]-exts[2]+1, exts[5]-exts[4]+1)\n",
    "output.SetExtent(exts)\n",
    "\n",
    "timestep = 24\n",
    "\n",
    "for v in ['CLOUDf', 'Pf', 'PRECIPf', 'QCLOUDf', 'QGRAUPf','QICEf','QRAINf','QSNOWf','QVAPORf','TCf','Uf','Vf','Wf']:\n",
    "  output.PointData.append(load_volume(v, timestep).ravel(), v)\n",
    "\"\"\"\n",
    "\n",
    "RequestInfo = \"\"\"\n",
    "dims = [500,500,100]\n",
    "executive = self.GetExecutive ()\n",
    "outInfo = executive.GetOutputInformation(0)\n",
    "\n",
    "outInfo.Set(executive.WHOLE_EXTENT(), 0, dims[0]-1 , 0, dims[1]-1 , 0, dims[2]-1)\n",
    "outInfo.Set(vtk.vtkDataObject.SPACING(), 1, 1, 1)\n",
    "outInfo.Set(vtk.vtkDataObject.ORIGIN(), 0,0,0)\n",
    "\"\"\"\n",
    "\n",
    "# create a new 'Programmable Source'\n",
    "IsabelGrid = ProgrammableSource()\n",
    "IsabelGrid.OutputDataSetType = 'vtkImageData'\n",
    "IsabelGrid.Script = RequestData\n",
    "IsabelGrid.ScriptRequestInformation = RequestInfo\n",
    "IsabelGrid.UpdatePipeline()\n",
    "\n",
    "rep1 = Show(IsabelGrid, GetRenderView())"
   ]
  },
  {
   "cell_type": "code",
   "execution_count": null,
   "metadata": {},
   "outputs": [],
   "source": [
    "rep1.Representation = \"Surface\"\n",
    "ColorBy(rep1, ('POINTS', 'QVAPORf'))\n",
    "ResetCamera()"
   ]
  },
  {
   "cell_type": "code",
   "execution_count": null,
   "metadata": {},
   "outputs": [],
   "source": [
    "rep1.Representation = \"Volume\""
   ]
  },
  {
   "cell_type": "code",
   "execution_count": null,
   "metadata": {},
   "outputs": [],
   "source": [
    "rep1.Shade=1"
   ]
  },
  {
   "cell_type": "markdown",
   "metadata": {},
   "source": [
    "# Let us now see the Python Calculator\n",
    "Here, inputs[0] refer to the first input (dataset) to the filter. The Python Calculator can accept multiple inputs. Each input can be accessed as inputs[0] , inputs[1] , … You can access the point or cell data of an input using the .PointData or .CellData qualifiers. You can then access individual arrays within the point or cell data containers using the [] operator. Make sure to use quotes or double-quotes around the array name"
   ]
  },
  {
   "cell_type": "code",
   "execution_count": null,
   "metadata": {},
   "outputs": [],
   "source": [
    "# Accessing data\n",
    "pyCalculator = PythonCalculator(Input=IsabelGrid)\n",
    "pyCalculator.Expression = \"inputs[0].PointData['QVAPORf']\"\n",
    "pyCalculator.ArrayName = \"result\"\n",
    "pyCalculator.ArrayAssociation = 'Point Data'"
   ]
  },
  {
   "cell_type": "code",
   "execution_count": null,
   "metadata": {},
   "outputs": [],
   "source": [
    "pyCalculator.Expression = \"inputs[0].PointData['QVAPORf'] * 10\"\n",
    "pyCalculator.UpdatePipeline()"
   ]
  },
  {
   "cell_type": "code",
   "execution_count": null,
   "metadata": {},
   "outputs": [],
   "source": [
    "# we have created a new scalar field called \"result\"\n",
    "# equal to 10 times the scalar array 'QVAPORf'\n",
    "pyCalculator.PointData[:]"
   ]
  },
  {
   "cell_type": "code",
   "execution_count": null,
   "metadata": {},
   "outputs": [],
   "source": [
    "pyCalculator.PointData['QVAPORf'].GetRange()"
   ]
  },
  {
   "cell_type": "code",
   "execution_count": null,
   "metadata": {},
   "outputs": [],
   "source": [
    "pyCalculator.PointData['result'].GetRange()"
   ]
  },
  {
   "cell_type": "code",
   "execution_count": null,
   "metadata": {},
   "outputs": [],
   "source": [
    "# do a division, element by element\n",
    "pyCalculator2 = PythonCalculator(Input = pyCalculator)\n",
    "pyCalculator2.Expression = \"inputs[0].PointData['QVAPORf'] / inputs[0].PointData['result']\"\n",
    "pyCalculator2.ArrayName = \"result\"\n",
    "pyCalculator2.UpdatePipeline()"
   ]
  },
  {
   "cell_type": "code",
   "execution_count": null,
   "metadata": {},
   "outputs": [],
   "source": [
    "pyCalculator2.PointData['result'].GetRange()"
   ]
  },
  {
   "cell_type": "code",
   "execution_count": null,
   "metadata": {},
   "outputs": [],
   "source": [
    "# normalize the field 'QVAPOR'\n",
    "pyCalculator3 = PythonCalculator(Input = IsabelGrid)\n",
    "pyCalculator3.Expression = \"inputs[0].PointData['QVAPORf'] / np.nanmax(inputs[0].PointData['QVAPORf'])\"\n",
    "pyCalculator3.ArrayName = \"result\"\n",
    "pyCalculator3.UpdatePipeline()"
   ]
  },
  {
   "cell_type": "code",
   "execution_count": null,
   "metadata": {},
   "outputs": [],
   "source": [
    "pyCalculator3.PointData['result'].GetRange()"
   ]
  },
  {
   "cell_type": "code",
   "execution_count": null,
   "metadata": {},
   "outputs": [],
   "source": [
    "# make a vector (3-tuple) with U, V and W component of Wind velocity\n",
    "pyCalculator4 = PythonCalculator(Input = IsabelGrid)\n",
    "pyCalculator4.Expression = \"make_vector(inputs[0].PointData['Uf'],inputs[0].PointData['Vf'], inputs[0].PointData['Wf'])\"\n",
    "pyCalculator4.ArrayName = \"Wind\"\n",
    "pyCalculator4.UpdatePipeline()"
   ]
  },
  {
   "cell_type": "code",
   "execution_count": null,
   "metadata": {},
   "outputs": [],
   "source": [
    "# Calculate the magnitude of Wind velocity\n",
    "pyCalculator5 = PythonCalculator(Input = IsabelGrid)\n",
    "pyCalculator5.Expression = \"mag(make_vector(inputs[0].PointData['Uf'],inputs[0].PointData['Vf'], inputs[0].PointData['Wf']))\"\n",
    "pyCalculator5.ArrayName = \"Wind Magnitude\"\n",
    "pyCalculator5.UpdatePipeline()"
   ]
  },
  {
   "cell_type": "code",
   "execution_count": null,
   "metadata": {},
   "outputs": [],
   "source": [
    "# Range of magnitude of Wind\n",
    "pyCalculator5.PointData['Wind Magnitude'].GetRange()"
   ]
  },
  {
   "cell_type": "code",
   "execution_count": null,
   "metadata": {},
   "outputs": [],
   "source": []
  }
 ],
 "metadata": {
  "kernelspec": {
   "display_name": "Python 3",
   "language": "python",
   "name": "python3"
  },
  "language_info": {
   "codemirror_mode": {
    "name": "ipython",
    "version": 3
   },
   "file_extension": ".py",
   "mimetype": "text/x-python",
   "name": "python",
   "nbconvert_exporter": "python",
   "pygments_lexer": "ipython3",
   "version": "3.8.5"
  }
 },
 "nbformat": 4,
 "nbformat_minor": 4
}
