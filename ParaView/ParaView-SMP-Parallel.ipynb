{
 "cells": [
  {
   "cell_type": "code",
   "execution_count": null,
   "metadata": {},
   "outputs": [],
   "source": [
    "from paraview.simple import *\n",
    "from paraview.modules.vtkRemotingCore import vtkProcessModule"
   ]
  },
  {
   "cell_type": "code",
   "execution_count": null,
   "metadata": {},
   "outputs": [],
   "source": [
    "# Looking at our CPU resources will show how we use all\n",
    "# available compute threads"
   ]
  },
  {
   "cell_type": "code",
   "execution_count": null,
   "metadata": {},
   "outputs": [],
   "source": [
    "reader = XMLMultiBlockDataReader(registrationName='PlanetsForming.vtm', FileName=['/scratch/snx3000/jfavre/PlanetsForming.vtm'])\n",
    "reader.PointArrayStatus = ['Mass', 'rho']\n",
    "reader.TimeArray = 'None'\n",
    "reader.UpdatePipeline()"
   ]
  },
  {
   "cell_type": "code",
   "execution_count": null,
   "metadata": {},
   "outputs": [],
   "source": [
    "# create a new 'Extract Block'\n",
    "extractBlock1 = ExtractBlock(registrationName='ExtractBlock1', Input=reader)\n",
    "extractBlock1.BlockIndices = [1]\n",
    "extractBlock1.UpdatePipeline()"
   ]
  },
  {
   "cell_type": "code",
   "execution_count": null,
   "metadata": {},
   "outputs": [],
   "source": [
    "# get color transfer function/color map for 'rho'\n",
    "rhoLUT = GetColorTransferFunction('rho')\n",
    "rhoLUT.RGBPoints = [4.517874355874919e-12, 0.278431372549, 0.278431372549, 0.858823529412, 5.1629351912000204e-11, 0.0, 0.0, 0.360784313725, 5.800438932465679e-10, 0.0, 1.0, 1.0, 6.7425119195454436e-09, 0.0, 0.501960784314, 0.0, 7.575057054251891e-08, 1.0, 1.0, 0.0, 8.656621579103496e-07, 1.0, 0.380392156863, 0.0, 9.892611583927074e-06, 0.419607843137, 0.0, 0.0, 0.00011305075895506893, 0.878431372549, 0.301960784314, 0.301960784314]\n",
    "rhoLUT.UseLogScale = 1\n",
    "rhoLUT.ColorSpace = 'RGB'\n",
    "rhoLUT.ScalarRangeInitialized = 1.0"
   ]
  },
  {
   "cell_type": "code",
   "execution_count": null,
   "metadata": {},
   "outputs": [],
   "source": [
    "pointCloud = Show(extractBlock1)\n",
    "pointCloud.Representation='Surface'\n",
    "pointCloud.LookupTable = rhoLUT\n",
    "pointCloud.ColorArrayName = ['POINTS', 'rho']\n",
    "\n",
    "view = GetRenderView()\n",
    "view.CenterOfRotation = [-21.226550579071045, -22.77941060066223, -0.14361827075481415]"
   ]
  },
  {
   "cell_type": "code",
   "execution_count": null,
   "metadata": {},
   "outputs": [],
   "source": [
    "from ipyparaview.widgets import PVDisplay\n",
    "pvdisp = PVDisplay(view)\n",
    "w = display(pvdisp)"
   ]
  },
  {
   "cell_type": "code",
   "execution_count": null,
   "metadata": {},
   "outputs": [],
   "source": [
    "# we will now switch to an SMP-accelerated filter which will use all cores available"
   ]
  },
  {
   "cell_type": "code",
   "execution_count": null,
   "metadata": {},
   "outputs": [],
   "source": [
    "# create a new 'SPH Plane Interpolator'\n",
    "sPHPlaneInterpolator1 = SPHPlaneInterpolator(Input=extractBlock1, Source='Bounded Plane')\n",
    "sPHPlaneInterpolator1.DensityArray = 'rho'\n",
    "sPHPlaneInterpolator1.MassArray = 'Mass'\n",
    "sPHPlaneInterpolator1.CutoffArray = 'None'\n",
    "sPHPlaneInterpolator1.ExcludedArrays = ['Mass']\n",
    "sPHPlaneInterpolator1.Kernel = 'SPHQuinticKernel'\n",
    "sPHPlaneInterpolator1.Locator = 'Static Point Locator'\n",
    "sPHPlaneInterpolator1.Kernel.SpatialStep = 1.0\n",
    "sPHPlaneInterpolator1.Source.Resolution = 256\n",
    "sPHPlaneInterpolator1.Source.BoundingBox = [-350.0, 350.0, -350.0, 350.0, -1.0, 1.0]\n",
    "sPHPlaneInterpolator1.Source.Center = [0.0, 0.0, 0.0]\n",
    "sPHPlaneInterpolator1.UpdatePipeline()"
   ]
  },
  {
   "cell_type": "code",
   "execution_count": null,
   "metadata": {},
   "outputs": [],
   "source": [
    "Hide(extractBlock1)\n",
    "\n",
    "# show data from sPHPlaneInterpolator1\n",
    "sPHPlaneInterpolator1Display = Show(sPHPlaneInterpolator1)\n",
    "sPHPlaneInterpolator1Display.Representation = \"Surface\"\n",
    "sPHPlaneInterpolator1Display.ColorArrayName = ['POINTS', 'rho']\n",
    "sPHPlaneInterpolator1Display.LookupTable = rhoLUT"
   ]
  },
  {
   "cell_type": "code",
   "execution_count": null,
   "metadata": {},
   "outputs": [],
   "source": [
    "sPHPlaneInterpolator1.Source.Resolution = 256\n",
    "sPHPlaneInterpolator1.Kernel.SpatialStep = 4.99"
   ]
  },
  {
   "cell_type": "code",
   "execution_count": null,
   "metadata": {},
   "outputs": [],
   "source": [
    "view.AxesGrid.Visibility = 1\n",
    "view.CenterOfRotation = [-1.1666717529296875, -1.1666717529296875, 0.0]\n",
    "view.StereoType = 0\n",
    "view.CameraPosition = [-1.1666717529296875, -1.1666717529296875, 1617.9014877328034]\n",
    "view.CameraFocalPoint = [-1.1666717529296875, -1.1666717529296875, -288.1592645558953]\n",
    "view.CameraParallelScale = 493.3248238147525\n",
    "view.Background = [0.32, 0.34, 0.43]"
   ]
  },
  {
   "cell_type": "code",
   "execution_count": null,
   "metadata": {},
   "outputs": [],
   "source": [
    "# repeat color initialization of cell 5"
   ]
  }
 ],
 "metadata": {
  "kernelspec": {
   "display_name": "Python 3",
   "language": "python",
   "name": "python3"
  },
  "language_info": {
   "codemirror_mode": {
    "name": "ipython",
    "version": 3
   },
   "file_extension": ".py",
   "mimetype": "text/x-python",
   "name": "python",
   "nbconvert_exporter": "python",
   "pygments_lexer": "ipython3",
   "version": "3.8.5"
  }
 },
 "nbformat": 4,
 "nbformat_minor": 4
}
