{
 "cells": [
  {
   "cell_type": "markdown",
   "metadata": {},
   "source": [
    "# ParaView Hello Sphere Test 2\n",
    "This notebook creates a synthetic data source (a sphere), and creates a polygonal display of it. So far, we have used a single task for the ParaView server (pvserver).\n",
    "\n",
    "We now demonstrate how to run an MPI-enabled pserver on the allocated node\n",
    "\n",
    "Tested Wed Aug 24 10:42:45 AM CEST 2022"
   ]
  },
  {
   "cell_type": "code",
   "execution_count": null,
   "metadata": {},
   "outputs": [],
   "source": [
    "from paraview.simple import *\n",
    "\n",
    "# to turn off some annoying warnings\n",
    "from vtkmodules.vtkCommonCore import vtkLogger\n",
    "vtkLogger.SetStderrVerbosity(vtkLogger.VERBOSITY_OFF)\n",
    "from paraview.modules.vtkRemotingCore import vtkProcessModule"
   ]
  },
  {
   "cell_type": "markdown",
   "metadata": {},
   "source": [
    "we first launch a parallel MPI job on the node, using a second notebook.\n",
    "\n",
    "The jupyter client will connect to the ParaView server on the same node\n",
    "\n",
    "**You must run the notebook called Hello_Sphere-ParaView.2-Helper.ipynb before proceeding**"
   ]
  },
  {
   "cell_type": "code",
   "execution_count": null,
   "metadata": {},
   "outputs": [],
   "source": [
    "Connect(\"localhost\")"
   ]
  },
  {
   "cell_type": "code",
   "execution_count": null,
   "metadata": {},
   "outputs": [],
   "source": [
    "rank = vtkProcessModule.GetProcessModule().GetPartitionId()\n",
    "nbprocs = servermanager.ActiveConnection.GetNumberOfDataPartitions()\n",
    "info = GetOpenGLInformation(location=servermanager.vtkSMSession.RENDER_SERVER)"
   ]
  },
  {
   "cell_type": "code",
   "execution_count": null,
   "metadata": {},
   "outputs": [],
   "source": [
    "Version = str(GetParaViewVersion())\n",
    "if rank == 0:\n",
    "    print(\"ParaView Version \", Version)\n",
    "    print(\"rank=\", rank, \"/\", nbprocs)\n",
    "    print(\"Vendor:   %s\" % info.GetVendor())\n",
    "    print(\"Version:  %s\" % info.GetVersion())\n",
    "    print(\"Renderer: %s\" % info.GetRenderer())"
   ]
  },
  {
   "cell_type": "code",
   "execution_count": null,
   "metadata": {},
   "outputs": [],
   "source": [
    "view = GetRenderView()\n",
    "from ipyparaview.widgets import PVDisplay\n",
    "pvdisp = PVDisplay(view)\n",
    "w = display(pvdisp)"
   ]
  },
  {
   "cell_type": "code",
   "execution_count": null,
   "metadata": {},
   "outputs": [],
   "source": [
    "sphere = Sphere(ThetaResolution=32, PhiResolution=32)\n",
    "pidscal = ProcessIdScalars(sphere)\n",
    "\n",
    "rep = Show(pidscal, view)\n",
    "ColorBy(rep, 'ProcessId')\n",
    "processIdLUT = GetColorTransferFunction('ProcessId')\n",
    "processIdLUT.AnnotationsInitialized = 1\n",
    "processIdLUT.InterpretValuesAsCategories = 1\n",
    "\n",
    "IndexedColors = [\n",
    "    1.0, 1.0, 1.0,\n",
    "    1.0, 0.0, 0.0,\n",
    "    0.0, 1.0, 0.0,\n",
    "    0.0, 0.0, 1.0]\n",
    "\n",
    "a = []\n",
    "for i in range(nbprocs):\n",
    "    a.extend((str(i), str(i)))\n",
    "\n",
    "processIdLUT.Annotations = a\n",
    "processIdLUT.IndexedColors = IndexedColors\n",
    "rep.Representation = \"Surface With Edges\""
   ]
  },
  {
   "cell_type": "code",
   "execution_count": null,
   "metadata": {},
   "outputs": [],
   "source": [
    "ResetCamera()\n",
    "GetActiveCamera().Dolly(1.4)"
   ]
  },
  {
   "cell_type": "code",
   "execution_count": null,
   "metadata": {},
   "outputs": [],
   "source": [
    "# Interact from ipywidgets gives us a simple way to interactively control values\n",
    "# with a callback function\n",
    "from ipywidgets import interact, IntSlider\n",
    "\n",
    "# set the Theta and Phi resolution and trigger a pipeline update\n",
    "def Sphere_resolution(res):\n",
    "    sphere.ThetaResolution = sphere.PhiResolution = res\n",
    "    sphere.UpdatePipeline()\n",
    "    \n",
    "i = interact(Sphere_resolution, res=IntSlider(min=3, max=48, step=1, value=12))"
   ]
  },
  {
   "cell_type": "code",
   "execution_count": null,
   "metadata": {},
   "outputs": [],
   "source": [
    "def SaveImage(filename):\n",
    "  from vtk import vtkPNGWriter\n",
    "  img_writer = vtkPNGWriter()\n",
    "  img_writer.SetInputConnection(pvdisp.w2i.GetOutputPort())\n",
    "  img_writer.SetFileName(filename)\n",
    "  img_writer.Write()\n",
    "\n",
    "# save animage on the client-side\n",
    "#SaveImage(\"/users/jfavre/foo2.png\")"
   ]
  },
  {
   "cell_type": "markdown",
   "metadata": {},
   "source": [
    "We can cleanly close the connection with the following command"
   ]
  },
  {
   "cell_type": "code",
   "execution_count": null,
   "metadata": {},
   "outputs": [],
   "source": [
    "Disconnect()"
   ]
  }
 ],
 "metadata": {
  "kernelspec": {
   "display_name": "myenv-kernel",
   "language": "python",
   "name": "myenv-kernel"
  },
  "language_info": {
   "codemirror_mode": {
    "name": "ipython",
    "version": 3
   },
   "file_extension": ".py",
   "mimetype": "text/x-python",
   "name": "python",
   "nbconvert_exporter": "python",
   "pygments_lexer": "ipython3",
   "version": "3.9.4"
  }
 },
 "nbformat": 4,
 "nbformat_minor": 4
}
